{
 "cells": [
  {
   "cell_type": "markdown",
   "metadata": {},
   "source": [
    "# Tutorial 1 - Getting Started\n",
    "Simon Matthews (University of Iceland) and Kevin Wong (University of Leeds)\n",
    "\n",
    "## Introduction\n",
    "\n",
    "pyMelt is a python package for calculating the melting behaviour of mantle comprising multiple lithologies. The module implements the melting equations developed by Phipps Morgan (2001) to calculate the melting behaviour of mantle comprising any chosen lithology. \n",
    "\n",
    "Currently supported calculations:\n",
    "\n",
    "* Adiabatic decompression melting\n",
    "* Isobaric melting\n",
    "\n",
    "Parameters that can be calculated:\n",
    "\n",
    "* The geotherm for decompressing mantle\n",
    "* Melt fractions for each lithology\n",
    "* Crustal thickness for passive-upwelling at a mid-ocean ridge\n",
    "* Crystallisation temperatures (following the method in Matthews et al., 2016)\n",
    "\n",
    "## Installing pyMelt\n",
    "See the github readme or the readthedocs documentation for installation instructions.\n",
    "\n",
    "once pyMelt is installed, it can be imported:"
   ]
  },
  {
   "cell_type": "code",
   "execution_count": 1,
   "metadata": {},
   "outputs": [],
   "source": [
    "import pyMelt as m"
   ]
  },
  {
   "cell_type": "markdown",
   "metadata": {},
   "source": [
    "adding `as m` to the end of the instruction allows us to use the shorthand `m` when accessing the module.\n",
    "\n",
    "We will also use the `numpy`, `pandas`, and `matplotlib.pyplot` libraries in this tutorial:"
   ]
  },
  {
   "cell_type": "code",
   "execution_count": 2,
   "metadata": {},
   "outputs": [],
   "source": [
    "import numpy as np\n",
    "import matplotlib.pyplot as plt\n",
    "import pandas as pd"
   ]
  },
  {
   "cell_type": "markdown",
   "metadata": {},
   "source": [
    "## Lithology objects\n",
    "pyMelt offers a number of different lithologies that can be thermodynamically modelled either separately or in combination. pyMelt includes the new parameterisations for KLB-1, KG1, and silica-saturated pyroxenite of Matthews et al., 2021. The lithologies included in the module are:\n",
    "\n",
    "* ```m.lithologies.matthews.klb1```: KLB-1 lherzolite (Matthews et al., 2021)\n",
    "* ```m.lithologies.matthews.kg1```: KG1 silica-undersaturated pyroxenite (Matthews et al., 2021)\n",
    "* ```m.lithologies.matthews.eclogite```: silica-saturated pyroxenite (Matthews et al., 2021)\n",
    "* ```m.lithologies.shorttle.kg1```: KG1 silica-undersaturated pyroxenite (Shorttle et al. 2014)\n",
    "* ```m.lithologies.katz.lherzolite```: lherzolite (Katz et al., 2003)\n",
    "* ```m.lithologies.pertermann.g2```: G2 pyroxenite (Pertermann & Hirschmann, 2002)\n",
    "* ```m.lithologies.shorttle.harzburgite```: non-melting harzburgite\n",
    "\n",
    "Each lithology is treated as a python object, and an instance can be assigned to a variable:"
   ]
  },
  {
   "cell_type": "code",
   "execution_count": 3,
   "metadata": {},
   "outputs": [],
   "source": [
    "lz = m.lithologies.matthews.klb1()\n",
    "px = m.lithologies.matthews.kg1()\n",
    "hz = m.lithologies.shorttle.harzburgite()"
   ]
  },
  {
   "cell_type": "markdown",
   "metadata": {},
   "source": [
    "Each lithology object contains methods describing its thermodynamic properties. Most of these methods are hidden and they vary from model to model, depending on how it is formulated. However, every lithology has the following methods:\n",
    "* ```TSolidus(P)```: temperature of the lithology solidus (&deg;C) at a given pressure in GPa\n",
    "* ```TLiquidus(P)```: temperature of the lithology liquidus (&deg;C) at a given pressure in GPa\n",
    "* ```F(P, T)```: melt fraction of the lithology at a given pressure (GPa) and temperature (&deg;C)\n",
    "* ```dTdF(P, T)```: dT/dF of the lithology at a constant pressure\n",
    "* ```dTdP(P, T)```: dT/dP of the lithology at a constant melt fraction\n",
    "These can be called to get the properties of the lithology at particular temperatures and pressures, for example:"
   ]
  },
  {
   "cell_type": "code",
   "execution_count": 4,
   "metadata": {},
   "outputs": [
    {
     "name": "stdout",
     "output_type": "stream",
     "text": [
      "At 2 GPa the solidus temperature is 1397.6˚C \n",
      " and the liquidus temperature is: 1911.3˚C. \n",
      "At 1500˚C and 2 GPa the melt fraction is 0.25\n"
     ]
    }
   ],
   "source": [
    "lz_solidus = lz.TSolidus(2.0)\n",
    "lz_liquidus = lz.TLiquidus(2.0)\n",
    "lz_F = lz.F(2.0, 1500.0)\n",
    "print(\"At 2 GPa the solidus temperature is {:.1f}˚C \\n and the liquidus temperature is: {:.1f}˚C. \\nAt 1500˚C and 2 GPa the melt fraction is {:.2f}\".format(lz_solidus, lz_liquidus, lz_F))"
   ]
  },
  {
   "cell_type": "markdown",
   "metadata": {},
   "source": [
    "Throughout pyMelt the units of temperature are always ˚C, and the units of pressure are always GPa.\n",
    "\n",
    "We could go one step further and make a plot of the solidus and liquidus temperature for one of the lithologies:"
   ]
  },
  {
   "cell_type": "code",
   "execution_count": 5,
   "metadata": {},
   "outputs": [
    {
     "data": {
      "image/png": "[encoded data removed]",
      "text/plain": [
       "<Figure size 600x400 with 1 Axes>"
      ]
     },
     "metadata": {
      "needs_background": "light"
     },
     "output_type": "display_data"
    }
   ],
   "source": [
    "p = np.linspace(0.0,3.0,31)\n",
    "\n",
    "tliq = np.zeros(np.shape(p))\n",
    "tsol = np.zeros(np.shape(p))\n",
    "\n",
    "for i in range(len(p)):\n",
    "    tliq[i] = lz.TLiquidus(p[i])\n",
    "    tsol[i] = lz.TSolidus(p[i])\n",
    "\n",
    "f,a = plt.subplots(dpi=100)\n",
    "a.plot(p, tliq, label='Liquidus')\n",
    "a.plot(p, tsol, label='Solidus')\n",
    "a.set_xlabel('Pressure (GPa)')\n",
    "a.set_ylabel('Temperature (˚C)')\n",
    "a.legend()\n",
    "plt.show()"
   ]
  },
  {
   "cell_type": "markdown",
   "metadata": {},
   "source": [
    "To see a list of the methods available for any python object, the following can be used within a Jupyter notebook to get access to its documentation."
   ]
  },
  {
   "cell_type": "code",
   "execution_count": 6,
   "metadata": {},
   "outputs": [
    {
     "data": {
      "text/plain": [
       "\u001b[0;31mType:\u001b[0m        klb1\n",
       "\u001b[0;31mString form:\u001b[0m <pyMelt.lithologies.matthews.klb1 object at 0x7f9973cfe310>\n",
       "\u001b[0;31mFile:\u001b[0m        ~/opt/anaconda3/lib/python3.7/site-packages/pyMelt/lithologies/matthews.py\n",
       "\u001b[0;31mDocstring:\u001b[0m  \n",
       "Implementation of the KLB1 melting model from Matthews et al. (2021).\n",
       "\n",
       "To use the same format of parameterisation for another lithology, the parameter values\n",
       "may be changed. They are provided as a dictionary during initialisation of the class.\n",
       "\n",
       "- Mcpx:   Mass fraction of cpx in the source. Controls the transition to low-productivity\n",
       "  harzburgite-type melting.\n",
       "- A1:     Parameter used to define solidus.\n",
       "- A2:     Parameter used to define solidus.\n",
       "- A3:     Parameter used to define solidus.\n",
       "- A4:               Parameter used to define solidus.\n",
       "- B1:     Parameter used to define liquidus.\n",
       "- B2:     Parameter used to define liquidus.\n",
       "- B3:     Parameter used to define liquidus.\n",
       "- B4:     Parameter used to define liquidus.\n",
       "- C:        Parameter used to define lherzolite-liquidus.\n",
       "- beta1:  Parameter used to calculate melt fraction during cpx-present melting.\n",
       "- beta2:  Parameter used to calculate melt fraction during cpx-absent melting.\n",
       "- r1:     Parameter used to define cpx reaction coefficient.\n",
       "- r2:     Parameter used to define cpx reaction coefficient.\n",
       "\n",
       "The thermal expansivities, the heat capacity, the densities, and the entropy of fusion may\n",
       "also be changed during class initialisation.\n",
       "\n",
       "Parameters\n",
       "----------\n",
       "CP :         float, default: pyMelt.default_properties['CP']\n",
       "    The heat capacity (J K-1 kg-1)\n",
       "alphas :     float, default: pyMelt.default_properties['alphas']\n",
       "    The thermal expansivity of the solid (1e-6 K-1)\n",
       "alphaf :     float, default: pyMelt.default_properties['alphaf']\n",
       "    The thermal expansivity of the melt (1e-6 K-1)\n",
       "rhos :       float, default: pyMelt.default_properties['rhos']\n",
       "    The density of the solid (kg m-3)\n",
       "rhof :       float, default: pyMelt.default_properties['rhof']\n",
       "    The density of the melt (kg m-3)\n",
       "DeltaS :     float, default: pyMelt.default_properties['DeltaS']\n",
       "    The entropy of fusion J K-1 kg-1\n",
       "parameters : dict, default: parameters from Matthews et al. (2021)\n"
      ]
     },
     "metadata": {},
     "output_type": "display_data"
    }
   ],
   "source": [
    "lz?"
   ]
  },
  {
   "cell_type": "markdown",
   "metadata": {},
   "source": [
    "## Mantle objects\n",
    "\n",
    "A ```mantle``` object is constructed from one or multiple lithologies in specified proportions, and comprises three arguments.\n",
    "\n",
    "* `lithologies`: a list of the defined lithology objects to be considered in the melting calculation.\n",
    "* `proportions`: a list of floats (of equivalent length to the list of Argument 1) comprising the relative proportions of the lithologies listed in Argument 1. The floats do not have to be normalised.\n",
    "* `names`: a list of strings (of equivalent length to the other lists) comprising the names by which the lithologies  will be labelled. These strings will be used in data outputs. This can be ommitted, but the results will be unlabelled.\n",
    "\n",
    "As a demonstration, we can define a three-component mantle. Note that the code is not limited to three lithologies, and can (in principle) have any number of lithologies:"
   ]
  },
  {
   "cell_type": "code",
   "execution_count": 7,
   "metadata": {},
   "outputs": [],
   "source": [
    "mantle = m.mantle([lz, px, hz], [6, 2, 2], ['Lz', 'Px', 'Hz'])"
   ]
  },
  {
   "cell_type": "markdown",
   "metadata": {},
   "source": [
    "Here are some of the methods that can be called from the ```Mantle``` class:\n",
    "\n",
    "The bulk thermodynamic properties of the solid mantle can be called:"
   ]
  },
  {
   "cell_type": "code",
   "execution_count": 8,
   "metadata": {},
   "outputs": [
    {
     "data": {
      "text/plain": [
       "{'alpha': 40.0, 'CP': 1000.0, 'rho': 3.3}"
      ]
     },
     "execution_count": 8,
     "metadata": {},
     "output_type": "execute_result"
    }
   ],
   "source": [
    "mantle.bulkProperties()"
   ]
  },
  {
   "cell_type": "markdown",
   "metadata": {},
   "source": [
    "Does this change once the mantle is molten?"
   ]
  },
  {
   "cell_type": "code",
   "execution_count": 9,
   "metadata": {},
   "outputs": [
    {
     "data": {
      "text/plain": [
       "{'alpha': 42.67799443726366, 'CP': 1000.0, 'rho': 3.261742936610519}"
      ]
     },
     "execution_count": 9,
     "metadata": {},
     "output_type": "execute_result"
    }
   ],
   "source": [
    "mantle.bulkProperties(T=1400.0, P=2.0)"
   ]
  },
  {
   "cell_type": "markdown",
   "metadata": {},
   "source": [
    "To find out when one of the lithologies will start melting, we can call either the `solid_intersection_isobaric` method if we are interested in a particular pressure, or we can find out at what pressure the mantle will beginning melting during decompression for a given $T_p$ (potential temperature):"
   ]
  },
  {
   "cell_type": "code",
   "execution_count": 10,
   "metadata": {},
   "outputs": [
    {
     "data": {
      "text/plain": [
       "array([1397.57332987, 1292.55257242,           inf])"
      ]
     },
     "execution_count": 10,
     "metadata": {},
     "output_type": "execute_result"
    }
   ],
   "source": [
    "mantle.solidusIntersectionIsobaric(2.0)"
   ]
  },
  {
   "cell_type": "code",
   "execution_count": 11,
   "metadata": {},
   "outputs": [
    {
     "data": {
      "text/plain": [
       "array([3.16884678, 4.45625687,        nan])"
      ]
     },
     "execution_count": 11,
     "metadata": {},
     "output_type": "execute_result"
    }
   ],
   "source": [
    "mantle.solidusIntersection(1450.0)"
   ]
  },
  {
   "cell_type": "markdown",
   "metadata": {},
   "source": [
    "Notice that three values were returned, one for each lithology. Since the third lithology is the non-melting harzburgite from Shorttle et al. (2014), it doesn't have a solidus intersection. If we just wanted to know at what temperature the mantle would start melting, but we didn't care which lithology, we could write:"
   ]
  },
  {
   "cell_type": "code",
   "execution_count": 12,
   "metadata": {},
   "outputs": [
    {
     "data": {
      "text/plain": [
       "1292.5525724175186"
      ]
     },
     "execution_count": 12,
     "metadata": {},
     "output_type": "execute_result"
    }
   ],
   "source": [
    "np.nanmin(mantle.solidusIntersectionIsobaric(2.0))"
   ]
  },
  {
   "cell_type": "markdown",
   "metadata": {},
   "source": [
    "We often talk about mantle temperatures in terms of $T_p$, but sometimes we want to know what temperature this equates to in the solid mantle. The `adiabat` method will do this. To see the required inputs we can use:"
   ]
  },
  {
   "cell_type": "code",
   "execution_count": 13,
   "metadata": {},
   "outputs": [
    {
     "data": {
      "text/plain": [
       "\u001b[0;31mSignature:\u001b[0m \u001b[0mmantle\u001b[0m\u001b[0;34m.\u001b[0m\u001b[0madiabat\u001b[0m\u001b[0;34m(\u001b[0m\u001b[0mP\u001b[0m\u001b[0;34m,\u001b[0m \u001b[0mTp\u001b[0m\u001b[0;34m)\u001b[0m\u001b[0;34m\u001b[0m\u001b[0;34m\u001b[0m\u001b[0m\n",
       "\u001b[0;31mDocstring:\u001b[0m\n",
       "Calculates the actual temperature of the solid mantle at a given pressure, given the\n",
       "potential temperature.\n",
       "\n",
       "Parameters\n",
       "----------\n",
       "P :  float or numpy.array\n",
       "    Pressure in GPa.\n",
       "Tp : float or numpy.array\n",
       "    Potential temperature in degC.\n",
       "\n",
       "Returns\n",
       "-------\n",
       "float or numpy.array\n",
       "    Temperature of the mantle at the given pressure and Tp.\n",
       "\u001b[0;31mFile:\u001b[0m      ~/opt/anaconda3/lib/python3.7/site-packages/pyMelt/mantle_class.py\n",
       "\u001b[0;31mType:\u001b[0m      method\n"
      ]
     },
     "metadata": {},
     "output_type": "display_data"
    }
   ],
   "source": [
    "mantle.adiabat?"
   ]
  },
  {
   "cell_type": "markdown",
   "metadata": {},
   "source": [
    "So we must specify the pressure and temperature. Note that the documentation specifies this will be the temperature of **solid** mantle. The adiabatic path taken by semi-molten mantle must be calculated by running a full decompression melting calculation (see below). "
   ]
  },
  {
   "cell_type": "code",
   "execution_count": 14,
   "metadata": {},
   "outputs": [
    {
     "data": {
      "text/plain": [
       "1502.7229412613215"
      ]
     },
     "execution_count": 14,
     "metadata": {},
     "output_type": "execute_result"
    }
   ],
   "source": [
    "mantle.adiabat(10.0, 1300.0)"
   ]
  },
  {
   "cell_type": "markdown",
   "metadata": {},
   "source": [
    "Stepping back into the world of partially-molten mantle, perhaps we want to know the melt fractions of each lithology at a given temperature and pressure. Just like the pure lithology objects, the `F` method will perform this calculation:"
   ]
  },
  {
   "cell_type": "code",
   "execution_count": 15,
   "metadata": {},
   "outputs": [
    {
     "data": {
      "text/plain": [
       "array([0.00185681, 0.47264287, 0.        ])"
      ]
     },
     "execution_count": 15,
     "metadata": {},
     "output_type": "execute_result"
    }
   ],
   "source": [
    "mantle.F(2.0, 1400.0)"
   ]
  },
  {
   "cell_type": "markdown",
   "metadata": {},
   "source": [
    "## Adiabatic decompression melting\n",
    "To calculate the consequences of adiabatic decompression melting for this ```Mantle``` object, the method ```AdiabaticMelt``` can be called which will return a new ```MeltingColumn``` object:"
   ]
  },
  {
   "cell_type": "code",
   "execution_count": 16,
   "metadata": {},
   "outputs": [],
   "source": [
    "column = mantle.adiabaticMelt(1400.0)"
   ]
  },
  {
   "cell_type": "markdown",
   "metadata": {},
   "source": [
    "This performed the calculation for a $T_p$ of 1400˚C. The way the calculation is performed can be modified, look up the documentation for the other (optional) arguments.\n",
    "\n",
    "What is going on behind the scenes? This method performs a simultaneous integration of $\\frac{dF}{dP}$ and $\\frac{dT}{dP}$ to obtain the thermal gradient through the melting region. The melt fraction $F$ of each lithology is then calculated at the same time. Integration is performed using a fourth-order Runge-Kutta algorithm.\n",
    "\n",
    "pyMelt provides a built in method `plot` to quickly visualise the results of the calculation."
   ]
  },
  {
   "cell_type": "code",
   "execution_count": 17,
   "metadata": {},
   "outputs": [
    {
     "data": {
      "image/png": "[encoded data removed]",
      "text/plain": [
       "<Figure size 600x400 with 2 Axes>"
      ]
     },
     "metadata": {
      "needs_background": "light"
     },
     "output_type": "display_data"
    }
   ],
   "source": [
    "f,a = column.plot()"
   ]
  },
  {
   "cell_type": "markdown",
   "metadata": {},
   "source": [
    "Often we want to use these results further, however. We can access the results, like temperature:"
   ]
  },
  {
   "cell_type": "code",
   "execution_count": 18,
   "metadata": {},
   "outputs": [
    {
     "data": {
      "text/plain": [
       "0      1476.497623\n",
       "1      1476.412794\n",
       "2      1476.299052\n",
       "3      1476.180087\n",
       "4      1476.057254\n",
       "          ...     \n",
       "915    1218.612712\n",
       "916    1218.231565\n",
       "917    1217.850246\n",
       "918    1217.468754\n",
       "919    1217.087089\n",
       "Name: T, Length: 920, dtype: float64"
      ]
     },
     "execution_count": 18,
     "metadata": {},
     "output_type": "execute_result"
    }
   ],
   "source": [
    "column.T"
   ]
  },
  {
   "cell_type": "markdown",
   "metadata": {},
   "source": [
    "This returned a `pandas.Series` object, with 100 values. To keep the notebook tidy, the printout is automatically truncated. But what pressures do these correspond to?"
   ]
  },
  {
   "cell_type": "code",
   "execution_count": 19,
   "metadata": {},
   "outputs": [
    {
     "data": {
      "text/plain": [
       "0      3.688272\n",
       "1      3.684272\n",
       "2      3.680272\n",
       "3      3.676272\n",
       "4      3.672272\n",
       "         ...   \n",
       "915    0.028272\n",
       "916    0.024272\n",
       "917    0.020272\n",
       "918    0.016272\n",
       "919    0.012272\n",
       "Name: P, Length: 920, dtype: float64"
      ]
     },
     "execution_count": 19,
     "metadata": {},
     "output_type": "execute_result"
    }
   ],
   "source": [
    "column.P"
   ]
  },
  {
   "cell_type": "markdown",
   "metadata": {},
   "source": [
    "What about melt fraction?"
   ]
  },
  {
   "cell_type": "code",
   "execution_count": 20,
   "metadata": {},
   "outputs": [
    {
     "data": {
      "text/plain": [
       "0      0.000000\n",
       "1      0.000038\n",
       "2      0.000093\n",
       "3      0.000159\n",
       "4      0.000231\n",
       "         ...   \n",
       "915    0.307799\n",
       "916    0.308447\n",
       "917    0.309095\n",
       "918    0.309744\n",
       "919    0.310393\n",
       "Length: 920, dtype: float64"
      ]
     },
     "execution_count": 20,
     "metadata": {},
     "output_type": "execute_result"
    }
   ],
   "source": [
    "column.F"
   ]
  },
  {
   "cell_type": "markdown",
   "metadata": {},
   "source": [
    "This returns the total melt fraction, but what about the melt fractions for each lithology?"
   ]
  },
  {
   "cell_type": "code",
   "execution_count": 21,
   "metadata": {},
   "outputs": [
    {
     "data": {
      "text/plain": [
       "0      0.000000\n",
       "1      0.000000\n",
       "2      0.000000\n",
       "3      0.000000\n",
       "4      0.000000\n",
       "         ...   \n",
       "915    0.213295\n",
       "916    0.213987\n",
       "917    0.214679\n",
       "918    0.215372\n",
       "919    0.216066\n",
       "Name: F, Length: 920, dtype: float64"
      ]
     },
     "execution_count": 21,
     "metadata": {},
     "output_type": "execute_result"
    }
   ],
   "source": [
    "column.lithologies['Lz'].F"
   ]
  },
  {
   "cell_type": "code",
   "execution_count": 22,
   "metadata": {},
   "outputs": [
    {
     "data": {
      "text/plain": [
       "0      0.000000\n",
       "1      0.000192\n",
       "2      0.000467\n",
       "3      0.000793\n",
       "4      0.001155\n",
       "         ...   \n",
       "915    0.899111\n",
       "916    0.900273\n",
       "917    0.901436\n",
       "918    0.902601\n",
       "919    0.903767\n",
       "Name: F, Length: 920, dtype: float64"
      ]
     },
     "execution_count": 22,
     "metadata": {},
     "output_type": "execute_result"
    }
   ],
   "source": [
    "column.lithologies['Px'].F"
   ]
  },
  {
   "cell_type": "markdown",
   "metadata": {},
   "source": [
    "Here we can see the pyroxenite is almost completely molten, but the lherzolite has only achieved 21.5% melting. The pyroxenite has a sufficiently low abundance that it only contributes a small amount to the aggregate melt fraction."
   ]
  },
  {
   "cell_type": "markdown",
   "metadata": {},
   "source": [
    "To save this for further work outside of python, we could construct a `pandas.DataFrame`."
   ]
  },
  {
   "cell_type": "code",
   "execution_count": 23,
   "metadata": {},
   "outputs": [
    {
     "data": {
      "text/html": [
       "<div>\n",
       "<style scoped>\n",
       "    .dataframe tbody tr th:only-of-type {\n",
       "        vertical-align: middle;\n",
       "    }\n",
       "\n",
       "    .dataframe tbody tr th {\n",
       "        vertical-align: top;\n",
       "    }\n",
       "\n",
       "    .dataframe thead th {\n",
       "        text-align: right;\n",
       "    }\n",
       "</style>\n",
       "<table border=\"1\" class=\"dataframe\">\n",
       "  <thead>\n",
       "    <tr style=\"text-align: right;\">\n",
       "      <th></th>\n",
       "      <th>T</th>\n",
       "      <th>P</th>\n",
       "      <th>F_total</th>\n",
       "      <th>F_lz</th>\n",
       "      <th>F_px</th>\n",
       "    </tr>\n",
       "  </thead>\n",
       "  <tbody>\n",
       "    <tr>\n",
       "      <th>0</th>\n",
       "      <td>1476.497623</td>\n",
       "      <td>3.688272</td>\n",
       "      <td>0.000000</td>\n",
       "      <td>0.000000</td>\n",
       "      <td>0.000000</td>\n",
       "    </tr>\n",
       "    <tr>\n",
       "      <th>1</th>\n",
       "      <td>1476.412794</td>\n",
       "      <td>3.684272</td>\n",
       "      <td>0.000038</td>\n",
       "      <td>0.000000</td>\n",
       "      <td>0.000192</td>\n",
       "    </tr>\n",
       "    <tr>\n",
       "      <th>2</th>\n",
       "      <td>1476.299052</td>\n",
       "      <td>3.680272</td>\n",
       "      <td>0.000093</td>\n",
       "      <td>0.000000</td>\n",
       "      <td>0.000467</td>\n",
       "    </tr>\n",
       "    <tr>\n",
       "      <th>3</th>\n",
       "      <td>1476.180087</td>\n",
       "      <td>3.676272</td>\n",
       "      <td>0.000159</td>\n",
       "      <td>0.000000</td>\n",
       "      <td>0.000793</td>\n",
       "    </tr>\n",
       "    <tr>\n",
       "      <th>4</th>\n",
       "      <td>1476.057254</td>\n",
       "      <td>3.672272</td>\n",
       "      <td>0.000231</td>\n",
       "      <td>0.000000</td>\n",
       "      <td>0.001155</td>\n",
       "    </tr>\n",
       "    <tr>\n",
       "      <th>...</th>\n",
       "      <td>...</td>\n",
       "      <td>...</td>\n",
       "      <td>...</td>\n",
       "      <td>...</td>\n",
       "      <td>...</td>\n",
       "    </tr>\n",
       "    <tr>\n",
       "      <th>915</th>\n",
       "      <td>1218.612712</td>\n",
       "      <td>0.028272</td>\n",
       "      <td>0.307799</td>\n",
       "      <td>0.213295</td>\n",
       "      <td>0.899111</td>\n",
       "    </tr>\n",
       "    <tr>\n",
       "      <th>916</th>\n",
       "      <td>1218.231565</td>\n",
       "      <td>0.024272</td>\n",
       "      <td>0.308447</td>\n",
       "      <td>0.213987</td>\n",
       "      <td>0.900273</td>\n",
       "    </tr>\n",
       "    <tr>\n",
       "      <th>917</th>\n",
       "      <td>1217.850246</td>\n",
       "      <td>0.020272</td>\n",
       "      <td>0.309095</td>\n",
       "      <td>0.214679</td>\n",
       "      <td>0.901436</td>\n",
       "    </tr>\n",
       "    <tr>\n",
       "      <th>918</th>\n",
       "      <td>1217.468754</td>\n",
       "      <td>0.016272</td>\n",
       "      <td>0.309744</td>\n",
       "      <td>0.215372</td>\n",
       "      <td>0.902601</td>\n",
       "    </tr>\n",
       "    <tr>\n",
       "      <th>919</th>\n",
       "      <td>1217.087089</td>\n",
       "      <td>0.012272</td>\n",
       "      <td>0.310393</td>\n",
       "      <td>0.216066</td>\n",
       "      <td>0.903767</td>\n",
       "    </tr>\n",
       "  </tbody>\n",
       "</table>\n",
       "<p>920 rows × 5 columns</p>\n",
       "</div>"
      ],
      "text/plain": [
       "               T         P   F_total      F_lz      F_px\n",
       "0    1476.497623  3.688272  0.000000  0.000000  0.000000\n",
       "1    1476.412794  3.684272  0.000038  0.000000  0.000192\n",
       "2    1476.299052  3.680272  0.000093  0.000000  0.000467\n",
       "3    1476.180087  3.676272  0.000159  0.000000  0.000793\n",
       "4    1476.057254  3.672272  0.000231  0.000000  0.001155\n",
       "..           ...       ...       ...       ...       ...\n",
       "915  1218.612712  0.028272  0.307799  0.213295  0.899111\n",
       "916  1218.231565  0.024272  0.308447  0.213987  0.900273\n",
       "917  1217.850246  0.020272  0.309095  0.214679  0.901436\n",
       "918  1217.468754  0.016272  0.309744  0.215372  0.902601\n",
       "919  1217.087089  0.012272  0.310393  0.216066  0.903767\n",
       "\n",
       "[920 rows x 5 columns]"
      ]
     },
     "execution_count": 23,
     "metadata": {},
     "output_type": "execute_result"
    }
   ],
   "source": [
    "results = pd.DataFrame()\n",
    "\n",
    "results['T'] = column.T\n",
    "results['P'] = column.P\n",
    "results['F_total'] = column.F\n",
    "results['F_lz'] = column.lithologies['Lz'].F\n",
    "results['F_px'] = column.lithologies['Px'].F\n",
    "results"
   ]
  },
  {
   "cell_type": "markdown",
   "metadata": {},
   "source": [
    "Calling `results.to_csv('my_results.csv')` will save this as a csv file in your working directory."
   ]
  },
  {
   "cell_type": "markdown",
   "metadata": {},
   "source": [
    "## Calculating Crustal Thickness at a MOR\n",
    "Crustal thickness can be calculated assuming passive decompression melting in a triangular spreading centre melting region similar to that of a mid-ocean ridge. As part of the ```pyMelt.geosettings``` module, there is a ```spreadingCentre``` object. When a ```spreadingCentre``` object is created from the ```meltingColumn``` object, the melt fractions are integrated to obtain the crustal thickness, and more shallow melts are removed."
   ]
  },
  {
   "cell_type": "code",
   "execution_count": 24,
   "metadata": {},
   "outputs": [],
   "source": [
    "morb = m.geosettings.spreadingCentre(column)"
   ]
  },
  {
   "cell_type": "markdown",
   "metadata": {},
   "source": [
    "The new object we created contains the attributes:\n",
    "* ```tc```: integrated crustal thickness at the point where the pressure it exerts is equal to the calculation pressure.\n",
    "* ```P_base_of_crust```: pressure at the base of the crust, at the point where the pressure the generated crust exerts is equal to the calculation pressure.\n",
    "* ```lithology_contributions``` integrated proportion of generated crust derived from each lithology where the pressure the generated crust exerts is equal to the calculation pressure.\n",
    "As well as many of the same attributes as the column.\n",
    "\n",
    "To see the crustal thickness:"
   ]
  },
  {
   "cell_type": "code",
   "execution_count": 25,
   "metadata": {},
   "outputs": [
    {
     "data": {
      "text/plain": [
       "11.804219130548248"
      ]
     },
     "execution_count": 25,
     "metadata": {},
     "output_type": "execute_result"
    }
   ],
   "source": [
    "morb.tc"
   ]
  },
  {
   "cell_type": "markdown",
   "metadata": {},
   "source": [
    "If we want to know how much each lithology contributes to the crust, we can call the `tc_lithology_contributions` attribute:"
   ]
  },
  {
   "cell_type": "code",
   "execution_count": 26,
   "metadata": {},
   "outputs": [
    {
     "data": {
      "text/plain": [
       "{'Lz': 0.18585370789092798, 'Px': 0.814146292109072, 'Hz': 0.0}"
      ]
     },
     "execution_count": 26,
     "metadata": {},
     "output_type": "execute_result"
    }
   ],
   "source": [
    "morb.lithology_contributions"
   ]
  },
  {
   "cell_type": "markdown",
   "metadata": {},
   "source": [
    "In this case the pyroxenite dominates the accumulated melt."
   ]
  },
  {
   "cell_type": "markdown",
   "metadata": {},
   "source": [
    "## Melt liquidus temperature\n",
    "pyMelt can be used to estimate the liquidus of mantle-derived melts (crystallisation temperature). This is achieved using the ```MeltCrystallisationT()``` method. Triangular integration must have been performed beforehand to achieve a liquidus temperature, else an error will be returned.\n"
   ]
  },
  {
   "cell_type": "code",
   "execution_count": 27,
   "metadata": {},
   "outputs": [
    {
     "data": {
      "text/plain": [
       "(1251.735708082581, 1347.0844657265302)"
      ]
     },
     "execution_count": 27,
     "metadata": {},
     "output_type": "execute_result"
    }
   ],
   "source": [
    "morb.meltCrystallisationT()"
   ]
  },
  {
   "cell_type": "markdown",
   "metadata": {},
   "source": [
    "This function returns two crystallisation temperature estimates, the first for the melts at the top of the melting column (the shallowest melts), and the second for the melts at the bottom of the melting column (the deepest melts). Both cases assume thermal (and chemical) isolation of the melts during ascent.\n",
    "\n",
    "See Matthews et al. (2016) or Matthews et al. (2021) for more information about this calculation. To recreate the results from Matthews et al. (2021), the lower crystallisation temperature estimate should be used. Check the documentation to see how the parameters of the calculation may be changed.\n",
    "\n",
    "## Calculating Melt Flux at an Ocean Island\n",
    "Another class in the ```pyMelt.geosetting``` module is ```intraPlate```, a very simplistic implementation of a plume upwelling beneath lithosphere. This requires a few more arguments than when creating a ```spreadingCentre```, given by the documentation:"
   ]
  },
  {
   "cell_type": "code",
   "execution_count": 28,
   "metadata": {},
   "outputs": [
    {
     "data": {
      "text/plain": [
       "\u001b[0;31mInit signature:\u001b[0m\n",
       "\u001b[0mm\u001b[0m\u001b[0;34m.\u001b[0m\u001b[0mgeosettings\u001b[0m\u001b[0;34m.\u001b[0m\u001b[0mintraPlate\u001b[0m\u001b[0;34m(\u001b[0m\u001b[0;34m\u001b[0m\n",
       "\u001b[0;34m\u001b[0m    \u001b[0mMeltingColumn\u001b[0m\u001b[0;34m,\u001b[0m\u001b[0;34m\u001b[0m\n",
       "\u001b[0;34m\u001b[0m    \u001b[0mP_lithosphere\u001b[0m\u001b[0;34m,\u001b[0m\u001b[0;34m\u001b[0m\n",
       "\u001b[0;34m\u001b[0m    \u001b[0mrelative_density\u001b[0m\u001b[0;34m=\u001b[0m\u001b[0;32mNone\u001b[0m\u001b[0;34m,\u001b[0m\u001b[0;34m\u001b[0m\n",
       "\u001b[0;34m\u001b[0m    \u001b[0mviscosity\u001b[0m\u001b[0;34m=\u001b[0m\u001b[0;36m1e+19\u001b[0m\u001b[0;34m,\u001b[0m\u001b[0;34m\u001b[0m\n",
       "\u001b[0;34m\u001b[0m    \u001b[0mradius\u001b[0m\u001b[0;34m=\u001b[0m\u001b[0;36m100000.0\u001b[0m\u001b[0;34m,\u001b[0m\u001b[0;34m\u001b[0m\n",
       "\u001b[0;34m\u001b[0m    \u001b[0mweightingFunction\u001b[0m\u001b[0;34m=\u001b[0m\u001b[0;32mNone\u001b[0m\u001b[0;34m,\u001b[0m\u001b[0;34m\u001b[0m\n",
       "\u001b[0;34m\u001b[0m    \u001b[0;34m**\u001b[0m\u001b[0mkwargs\u001b[0m\u001b[0;34m,\u001b[0m\u001b[0;34m\u001b[0m\n",
       "\u001b[0;34m\u001b[0m\u001b[0;34m)\u001b[0m\u001b[0;34m\u001b[0m\u001b[0;34m\u001b[0m\u001b[0m\n",
       "\u001b[0;31mDocstring:\u001b[0m     \n",
       "Implementation of an intra-plate volcanic province, representing mantle upwelling beneath\n",
       "lithosphere. The melt flux is calculated assuming flow in a deformable plume conduit (Turcotte\n",
       "and Schubert, 2002). At present a constant rate of decompression throughout the conduit is\n",
       "assumed, likely leading to inaccuracies in the estimated melt chemistry.\n",
       "\n",
       "Parameters\n",
       "----------\n",
       "MeltingColumn : pyMelt.meltingcolumn_classes.MeltingColumn\n",
       "    The melting column from which to construct the geological setting.\n",
       "P_lithosphere : float, default: 0.0\n",
       "    The pressure at the base of the lithosphere in a continental rift. If this includes the\n",
       "    igneous crust, set `extract_melt` to True. Defaults to 0.0, the case of a a mid-ocean\n",
       "    ridge.\n",
       "relative_density : float or None, default: None\n",
       "    The value of (ambient-density - plume-density) in kg m-3.\n",
       "viscosity : float, default: 1e19\n",
       "    The viscosity of the mantle plume in Pa s. Default value is 1e19 Pa s, after Shorttle et\n",
       "    al. (2014).\n",
       "radius : float, default: 1e5\n",
       "    The plume radius in m. Default is 1e5 m (or 100 km), after Shorttle et al. (2014).\n",
       "weighting_function : function or None\n",
       "    A function of pressure allowing non-uniform weighting of melts throughout the melting\n",
       "    region. Useful for simulating active upwelling, for example.\n",
       "\n",
       "Attributes\n",
       "----------\n",
       "MeltingColumn : pyMelt.meltingcolumn_classes.MeltingColumn\n",
       "    The melting column from which the geological setting was constructed\n",
       "lithologies : dict\n",
       "    Dictionary containing the DataFrames of the states of each lithology during melting.\n",
       "mantle : pyMelt.Mantle\n",
       "    The mantle object from which the melting column was calculated.\n",
       "P_lithosphere : float\n",
       "    The pressure at the base of the lithosphere.\n",
       "melt_flux : float or None\n",
       "    If the melt flux has been calculated, it will be stored here, in m3 s-1.\n",
       "lithology_contributions : pandas.Series\n",
       "    The relative contributions of each lithology to the pooled melt.\n",
       "chemistry : pandas.Series\n",
       "    The homogenised melt composition\n",
       "\u001b[0;31mFile:\u001b[0m           ~/opt/anaconda3/lib/python3.7/site-packages/pyMelt/geosettings.py\n",
       "\u001b[0;31mType:\u001b[0m           type\n",
       "\u001b[0;31mSubclasses:\u001b[0m     \n"
      ]
     },
     "metadata": {},
     "output_type": "display_data"
    }
   ],
   "source": [
    "m.geosettings.intraPlate?"
   ]
  },
  {
   "cell_type": "markdown",
   "metadata": {},
   "source": [
    "If you don't wish to calculate a melt flux, the ```relative_density``` argument may be ignored. You might want to do this if you are calculating melt chemistry (see tutorial 3), or if you want an easy way of cutting off the top of the melting column. The relative density of the plume compared with ambient mantle determines the upwelling velocity, and therefore the melt production over time. pyMelt does not directly estimate lithology density. The approach used by Shorttle et al. (2014) and Matthews et al. (2021) was to calculate lithology densities as a a function of temperature (at fixed pressure for simplicity) using THERMOCALC. A lookup table was then used to extract an appropriate $\\Delta \\rho$. To illustrate the calculation we will use an abitrary value of $\\Delta \\rho = 0.2$ kg m$^{-3}$:"
   ]
  },
  {
   "cell_type": "code",
   "execution_count": 29,
   "metadata": {},
   "outputs": [],
   "source": [
    "oib = m.geosettings.intraPlate(column, P_lithosphere=1.2, relative_density=0.2)"
   ]
  },
  {
   "cell_type": "markdown",
   "metadata": {},
   "source": [
    "To print the calculated melt flux (in m$^3$ s$^{-1}$):"
   ]
  },
  {
   "cell_type": "code",
   "execution_count": 31,
   "metadata": {},
   "outputs": [
    {
     "data": {
      "text/plain": [
       "1.1609743227613747"
      ]
     },
     "execution_count": 31,
     "metadata": {},
     "output_type": "execute_result"
    }
   ],
   "source": [
    "oib.melt_flux"
   ]
  },
  {
   "cell_type": "code",
   "execution_count": null,
   "metadata": {},
   "outputs": [],
   "source": []
  }
 ],
 "metadata": {
  "kernelspec": {
   "display_name": "Python 3",
   "language": "python",
   "name": "python3"
  },
  "language_info": {
   "codemirror_mode": {
    "name": "ipython",
    "version": 3
   },
   "file_extension": ".py",
   "mimetype": "text/x-python",
   "name": "python",
   "nbconvert_exporter": "python",
   "pygments_lexer": "ipython3",
   "version": "3.7.6"
  }
 },
 "nbformat": 4,
 "nbformat_minor": 4
}
