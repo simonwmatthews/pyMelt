{
 "cells": [
  {
   "cell_type": "markdown",
   "metadata": {},
   "source": [
    "# Tutorial 1 - Getting Started\n",
    "Simon Matthews (University of Iceland) and Kevin Wong (University of Leeds)\n",
    "\n",
    "## Introduction\n",
    "\n",
    "pyMelt is a python package for calculating the melting behaviour of mantle comprising multiple lithologies. The module implements the melting equations developed by Phipps Morgan (2001) to calculate the melting behaviour of mantle comprising any chosen lithology. \n",
    "\n",
    "Currently supported calculations:\n",
    "\n",
    "* Adiabatic decompression melting\n",
    "* Isobaric melting\n",
    "\n",
    "Parameters that can be calculated:\n",
    "\n",
    "* The geotherm for decompressing mantle\n",
    "* Melt fractions for each lithology\n",
    "* Crustal thickness for passive-upwelling at a mid-ocean ridge\n",
    "* Crystallisation temperatures (following the method in Matthews et al., 2016)\n",
    "\n",
    "## Installing pyMelt\n",
    "See the github readme or the readthedocs documentation for installation instructions.\n",
    "\n",
    "once pyMelt is installed, it can be imported:"
   ]
  },
  {
   "cell_type": "code",
   "execution_count": 1,
   "metadata": {},
   "outputs": [],
   "source": [
    "import pyMelt as m"
   ]
  },
  {
   "cell_type": "markdown",
   "metadata": {},
   "source": [
    "adding `as m` to the end of the instruction allows us to use the shorthand `m` when accessing the module.\n",
    "\n",
    "We will also use the `numpy`, `pandas`, and `matplotlib.pyplot` libraries in this tutorial:"
   ]
  },
  {
   "cell_type": "code",
   "execution_count": 2,
   "metadata": {},
   "outputs": [],
   "source": [
    "import numpy as np\n",
    "import matplotlib.pyplot as plt\n",
    "import pandas as pd"
   ]
  },
  {
   "cell_type": "markdown",
   "metadata": {},
   "source": [
    "## Lithology objects\n",
    "pyMelt offers a number of different lithologies that can be thermodynamically modelled either separately or in combination. pyMelt includes the new parameterisations for KLB-1, KG1, and silica-saturated pyroxenite of Matthews et al., 2021. The lithologies included in the module are:\n",
    "\n",
    "* ```m.lithologies.matthews.klb1```: KLB-1 lherzolite (Matthews et al., 2021)\n",
    "* ```m.lithologies.matthews.kg1```: KG1 silica-undersaturated pyroxenite (Matthews et al., 2021)\n",
    "* ```m.lithologies.matthews.eclogite```: silica-saturated pyroxenite (Matthews et al., 2021)\n",
    "* ```m.lithologies.shorttle.kg1```: KG1 silica-undersaturated pyroxenite (Shorttle et al. 2014)\n",
    "* ```m.lithologies.katz.lherzolite```: lherzolite (Katz et al., 2003)\n",
    "* ```m.lithologies.pertermann.g2```: G2 pyroxenite (Pertermann & Hirschmann, 2002)\n",
    "* ```m.lithologies.shorttle.harzburgite```: non-melting harzburgite\n",
    "\n",
    "Each lithology is treated as a python object, and an instance can be assigned to a variable:"
   ]
  },
  {
   "cell_type": "code",
   "execution_count": 3,
   "metadata": {},
   "outputs": [],
   "source": [
    "lz = m.lithologies.matthews.klb1()\n",
    "px = m.lithologies.matthews.kg1()\n",
    "hz = m.lithologies.shorttle.harzburgite()"
   ]
  },
  {
   "cell_type": "markdown",
   "metadata": {},
   "source": [
    "Each lithology object contains methods describing its thermodynamic properties. Most of these methods are hidden and they vary from model to model, depending on how it is formulated. However, every lithology has the following methods:\n",
    "* ```TSolidus(P)```: temperature of the lithology solidus (&deg;C) at a given pressure in GPa\n",
    "* ```TLiquidus(P)```: temperature of the lithology liquidus (&deg;C) at a given pressure in GPa\n",
    "* ```F(P, T)```: melt fraction of the lithology at a given pressure (GPa) and temperature (&deg;C)\n",
    "* ```dTdF(P, T)```: dT/dF of the lithology at a constant pressure\n",
    "* ```dTdP(P, T)```: dT/dP of the lithology at a constant melt fraction\n",
    "These can be called to get the properties of the lithology at particular temperatures and pressures, for example:"
   ]
  },
  {
   "cell_type": "code",
   "execution_count": 4,
   "metadata": {},
   "outputs": [
    {
     "name": "stdout",
     "output_type": "stream",
     "text": [
      "At 2 GPa the solidus temperature is 1397.6˚C \n",
      " and the liquidus temperature is: 1911.3˚C. \n",
      "At 1500˚C and 2 GPa the melt fraction is 0.25\n"
     ]
    }
   ],
   "source": [
    "lz_solidus = lz.TSolidus(2.0)\n",
    "lz_liquidus = lz.TLiquidus(2.0)\n",
    "lz_F = lz.F(2.0, 1500.0)\n",
    "print(\"At 2 GPa the solidus temperature is {:.1f}˚C \\n and the liquidus temperature is: {:.1f}˚C. \\nAt 1500˚C and 2 GPa the melt fraction is {:.2f}\".format(lz_solidus, lz_liquidus, lz_F))"
   ]
  },
  {
   "cell_type": "markdown",
   "metadata": {},
   "source": [
    "Throughout pyMelt the units of temperature are always ˚C, and the units of pressure are always GPa.\n",
    "\n",
    "We could go one step further and make a plot of the solidus and liquidus temperature for one of the lithologies:"
   ]
  },
  {
   "cell_type": "code",
   "execution_count": 5,
   "metadata": {},
   "outputs": [
    {
     "data": {
      "image/png": "[encoded data removed]",
      "text/plain": [
       "<Figure size 600x400 with 1 Axes>"
      ]
     },
     "metadata": {
      "needs_background": "light"
     },
     "output_type": "display_data"
    }
   ],
   "source": [
    "p = np.linspace(0.0,3.0,31)\n",
    "\n",
    "tliq = np.zeros(np.shape(p))\n",
    "tsol = np.zeros(np.shape(p))\n",
    "\n",
    "for i in range(len(p)):\n",
    "    tliq[i] = lz.TLiquidus(p[i])\n",
    "    tsol[i] = lz.TSolidus(p[i])\n",
    "\n",
    "f,a = plt.subplots(dpi=100)\n",
    "a.plot(p, tliq, label='Liquidus')\n",
    "a.plot(p, tsol, label='Solidus')\n",
    "a.set_xlabel('Pressure (GPa)')\n",
    "a.set_ylabel('Temperature (˚C)')\n",
    "a.legend()\n",
    "plt.show()"
   ]
  },
  {
   "cell_type": "markdown",
   "metadata": {},
   "source": [
    "To see a list of the methods available for any python object, the following can be used within a Jupyter notebook to get access to its documentation."
   ]
  },
  {
   "cell_type": "code",
   "execution_count": 6,
   "metadata": {},
   "outputs": [
    {
     "data": {
      "text/plain": [
       "\u001b[0;31mType:\u001b[0m        klb1\n",
       "\u001b[0;31mString form:\u001b[0m <pyMelt.lithologies.matthews.klb1 object at 0x7f8f8a988c50>\n",
       "\u001b[0;31mFile:\u001b[0m        ~/opt/anaconda3/lib/python3.7/site-packages/pyMelt/lithologies/matthews.py\n",
       "\u001b[0;31mDocstring:\u001b[0m  \n",
       "Implementation of the KLB1 melting model from Matthews et al. (2021).\n",
       "\n",
       "To use the same format of parameterisation for another lithology, the parameter values\n",
       "may be changed. They are provided as a dictionary during initialisation of the class.\n",
       "\n",
       "- Mcpx:   Mass fraction of cpx in the source. Controls the transition to low-productivity\n",
       "  harzburgite-type melting.\n",
       "- A1:     Parameter used to define solidus.\n",
       "- A2:     Parameter used to define solidus.\n",
       "- A3:     Parameter used to define solidus.\n",
       "- A4:               Parameter used to define solidus.\n",
       "- B1:     Parameter used to define liquidus.\n",
       "- B2:     Parameter used to define liquidus.\n",
       "- B3:     Parameter used to define liquidus.\n",
       "- B4:     Parameter used to define liquidus.\n",
       "- C:        Parameter used to define lherzolite-liquidus.\n",
       "- beta1:  Parameter used to calculate melt fraction during cpx-present melting.\n",
       "- beta2:  Parameter used to calculate melt fraction during cpx-absent melting.\n",
       "- r1:     Parameter used to define cpx reaction coefficient.\n",
       "- r2:     Parameter used to define cpx reaction coefficient.\n",
       "\n",
       "The thermal expansivities, the heat capacity, the densities, and the entropy of fusion may\n",
       "also be changed during class initialisation.\n",
       "\n",
       "Parameters\n",
       "----------\n",
       "CP :         float, default: pyMelt.default_properties['CP']\n",
       "    The heat capacity (J K-1 kg-1)\n",
       "alphas :     float, default: pyMelt.default_properties['alphas']\n",
       "    The thermal expansivity of the solid (1e-6 K-1)\n",
       "alphaf :     float, default: pyMelt.default_properties['alphaf']\n",
       "    The thermal expansivity of the melt (1e-6 K-1)\n",
       "rhos :       float, default: pyMelt.default_properties['rhos']\n",
       "    The density of the solid (kg m-3)\n",
       "rhof :       float, default: pyMelt.default_properties['rhof']\n",
       "    The density of the melt (kg m-3)\n",
       "DeltaS :     float, default: pyMelt.default_properties['DeltaS']\n",
       "    The entropy of fusion J K-1 kg-1\n",
       "parameters : dict, default: parameters from Matthews et al. (2021)\n",
       "    The model parameters described above\n"
      ]
     },
     "metadata": {},
     "output_type": "display_data"
    }
   ],
   "source": [
    "lz?"
   ]
  },
  {
   "cell_type": "markdown",
   "metadata": {},
   "source": [
    "## Mantle objects\n",
    "\n",
    "A ```Mantle``` object is constructed from one or multiple lithologies in specified proportions, and comprises three arguments.\n",
    "\n",
    "* `lithologies`: a list of the defined lithology objects to be considered in the melting calculation.\n",
    "* `proportions`: a list of floats (of equivalent length to the list of Argument 1) comprising the relative proportions of the lithologies listed in Argument 1. The floats do not have to be normalised.\n",
    "* `names`: a list of strings (of equivalent length to the other lists) comprising the names by which the lithologies  will be labelled. These strings will be used in data outputs. This can be ommitted, but the results will be unlabelled.\n",
    "\n",
    "As a demonstration, we can define a three-component mantle. Note that the code is not limited to three lithologies, and can (in principle) have any number of lithologies:"
   ]
  },
  {
   "cell_type": "code",
   "execution_count": 7,
   "metadata": {},
   "outputs": [],
   "source": [
    "mantle = m.Mantle([lz, px, hz], [6, 2, 2], ['Lz', 'Px', 'Hz'])"
   ]
  },
  {
   "cell_type": "markdown",
   "metadata": {},
   "source": [
    "Here are some of the methods that can be called from the ```Mantle``` class:\n",
    "\n",
    "The bulk thermodynamic properties of the solid mantle can be called:"
   ]
  },
  {
   "cell_type": "code",
   "execution_count": 8,
   "metadata": {},
   "outputs": [
    {
     "data": {
      "text/plain": [
       "{'alpha': 40.0, 'CP': 1000.0, 'rho': 3.3}"
      ]
     },
     "execution_count": 8,
     "metadata": {},
     "output_type": "execute_result"
    }
   ],
   "source": [
    "mantle.bulk_properties()"
   ]
  },
  {
   "cell_type": "markdown",
   "metadata": {},
   "source": [
    "Does this change once the mantle is molten?"
   ]
  },
  {
   "cell_type": "code",
   "execution_count": 9,
   "metadata": {},
   "outputs": [
    {
     "data": {
      "text/plain": [
       "{'alpha': 42.67799443726366, 'CP': 1000.0, 'rho': 3.261742936610519}"
      ]
     },
     "execution_count": 9,
     "metadata": {},
     "output_type": "execute_result"
    }
   ],
   "source": [
    "mantle.bulk_properties(T=1400.0, P=2.0)"
   ]
  },
  {
   "cell_type": "markdown",
   "metadata": {},
   "source": [
    "To find out when one of the lithologies will start melting, we can call either the `solid_intersection_isobaric` method if we are interested in a particular pressure, or we can find out at what pressure the mantle will beginning melting during decompression for a given $T_p$ (potential temperature):"
   ]
  },
  {
   "cell_type": "code",
   "execution_count": 10,
   "metadata": {},
   "outputs": [
    {
     "data": {
      "text/plain": [
       "array([1397.57332987, 1292.55257242,           inf])"
      ]
     },
     "execution_count": 10,
     "metadata": {},
     "output_type": "execute_result"
    }
   ],
   "source": [
    "mantle.solidus_intersection_isobaric(2.0)"
   ]
  },
  {
   "cell_type": "code",
   "execution_count": 11,
   "metadata": {},
   "outputs": [
    {
     "data": {
      "text/plain": [
       "array([3.16884678, 4.45625687,        nan])"
      ]
     },
     "execution_count": 11,
     "metadata": {},
     "output_type": "execute_result"
    }
   ],
   "source": [
    "mantle.solidus_intersection(1450.0)"
   ]
  },
  {
   "cell_type": "markdown",
   "metadata": {},
   "source": [
    "Notice that three values were returned, one for each lithology. Since the third lithology is the non-melting harzburgite from Shorttle et al. (2014), it doesn't have a solidus intersection. If we just wanted to know at what temperature the mantle would start melting, but we didn't care which lithology, we could write:"
   ]
  },
  {
   "cell_type": "code",
   "execution_count": 12,
   "metadata": {},
   "outputs": [
    {
     "data": {
      "text/plain": [
       "1292.5525724175186"
      ]
     },
     "execution_count": 12,
     "metadata": {},
     "output_type": "execute_result"
    }
   ],
   "source": [
    "np.nanmin(mantle.solidus_intersection_isobaric(2.0))"
   ]
  },
  {
   "cell_type": "markdown",
   "metadata": {},
   "source": [
    "We often talk about mantle temperatures in terms of $T_p$, but sometimes we want to know what temperature this equates to in the solid mantle. The `adiabat` method will do this. To see the required inputs we can use:"
   ]
  },
  {
   "cell_type": "code",
   "execution_count": 13,
   "metadata": {},
   "outputs": [
    {
     "data": {
      "text/plain": [
       "\u001b[0;31mSignature:\u001b[0m \u001b[0mmantle\u001b[0m\u001b[0;34m.\u001b[0m\u001b[0madiabat\u001b[0m\u001b[0;34m(\u001b[0m\u001b[0mP\u001b[0m\u001b[0;34m,\u001b[0m \u001b[0mTp\u001b[0m\u001b[0;34m)\u001b[0m\u001b[0;34m\u001b[0m\u001b[0;34m\u001b[0m\u001b[0m\n",
       "\u001b[0;31mDocstring:\u001b[0m\n",
       "Calculates the actual temperature of the solid mantle at a given pressure, given the\n",
       "potential temperature.\n",
       "\n",
       "Parameters\n",
       "----------\n",
       "P :  float or numpy.array\n",
       "    Pressure in GPa.\n",
       "Tp : float or numpy.array\n",
       "    Potential temperature in degC.\n",
       "\n",
       "Returns\n",
       "-------\n",
       "float or numpy.array\n",
       "    Temperature of the mantle at the given pressure and Tp.\n",
       "\u001b[0;31mFile:\u001b[0m      ~/opt/anaconda3/lib/python3.7/site-packages/pyMelt/mantle_class.py\n",
       "\u001b[0;31mType:\u001b[0m      method\n"
      ]
     },
     "metadata": {},
     "output_type": "display_data"
    }
   ],
   "source": [
    "mantle.adiabat?"
   ]
  },
  {
   "cell_type": "markdown",
   "metadata": {},
   "source": [
    "So we must specify the pressure and temperature. Note that the documentation specifies this will be the temperature of **solid** mantle. The adiabatic path taken by semi-molten mantle must be calculated by running a full decompression melting calculation (see below). "
   ]
  },
  {
   "cell_type": "code",
   "execution_count": 14,
   "metadata": {},
   "outputs": [
    {
     "data": {
      "text/plain": [
       "1502.7229412613215"
      ]
     },
     "execution_count": 14,
     "metadata": {},
     "output_type": "execute_result"
    }
   ],
   "source": [
    "mantle.adiabat(10.0, 1300.0)"
   ]
  },
  {
   "cell_type": "markdown",
   "metadata": {},
   "source": [
    "Stepping back into the world of partially-molten mantle, perhaps we want to know the melt fractions of each lithology at a given temperature and pressure. Just like the pure lithology objects, the `F` method will perform this calculation:"
   ]
  },
  {
   "cell_type": "code",
   "execution_count": 15,
   "metadata": {},
   "outputs": [
    {
     "data": {
      "text/plain": [
       "array([0.00185681, 0.47264287, 0.        ])"
      ]
     },
     "execution_count": 15,
     "metadata": {},
     "output_type": "execute_result"
    }
   ],
   "source": [
    "mantle.F(2.0, 1400.0)"
   ]
  },
  {
   "cell_type": "markdown",
   "metadata": {},
   "source": [
    "## Adiabatic decompression melting\n",
    "To calculate the consequences of adiabatic decompression melting for this ```Mantle``` object, the method ```AdiabaticMelt_1D``` can be called which will return a new ```column``` object:"
   ]
  },
  {
   "cell_type": "code",
   "execution_count": 16,
   "metadata": {},
   "outputs": [],
   "source": [
    "column = mantle.AdiabaticMelt_1D(1400.0)"
   ]
  },
  {
   "cell_type": "markdown",
   "metadata": {},
   "source": [
    "This performed the calculation for a $T_p$ of 1400˚C. The way the calculation is performed can be modified, look up the documentation for the other (optional) arguments.\n",
    "\n",
    "What is going on behind the scenes? This method performs a simultaneous integration of $\\frac{dF}{dP}$ and $\\frac{dT}{dP}$ to obtain the thermal gradient through the melting region. The melt fraction $F$ of each lithology is then calculated at the same time. Integration is performed using a fourth-order Runge-Kutta algorithm.\n",
    "\n",
    "pyMelt provides a built in method `plot` to quickly visualise the results of the calculation."
   ]
  },
  {
   "cell_type": "code",
   "execution_count": 17,
   "metadata": {},
   "outputs": [
    {
     "data": {
      "image/png": "[encoded data removed]",
      "text/plain": [
       "<Figure size 600x400 with 2 Axes>"
      ]
     },
     "metadata": {
      "needs_background": "light"
     },
     "output_type": "display_data"
    }
   ],
   "source": [
    "f,a = column.plot()"
   ]
  },
  {
   "cell_type": "markdown",
   "metadata": {},
   "source": [
    "Often we want to use these results further, however. We can access the results, like temperature:"
   ]
  },
  {
   "cell_type": "code",
   "execution_count": 18,
   "metadata": {},
   "outputs": [
    {
     "data": {
      "text/plain": [
       "0      1570.371819\n",
       "1      1568.587260\n",
       "2      1566.804429\n",
       "3      1565.023324\n",
       "4      1563.243943\n",
       "          ...     \n",
       "96     1246.554443\n",
       "97     1239.172169\n",
       "98     1231.719393\n",
       "99     1224.196800\n",
       "100    1216.604851\n",
       "Name: T, Length: 101, dtype: float64"
      ]
     },
     "execution_count": 18,
     "metadata": {},
     "output_type": "execute_result"
    }
   ],
   "source": [
    "column.T"
   ]
  },
  {
   "cell_type": "markdown",
   "metadata": {},
   "source": [
    "This returned a `pandas.Series` object, with 100 values. To keep the notebook tidy, the printout is automatically truncated. But what pressures do these correspond to?"
   ]
  },
  {
   "cell_type": "code",
   "execution_count": 19,
   "metadata": {},
   "outputs": [
    {
     "data": {
      "text/plain": [
       "0      8.0000\n",
       "1      7.9201\n",
       "2      7.8402\n",
       "3      7.7603\n",
       "4      7.6804\n",
       "        ...  \n",
       "96     0.3296\n",
       "97     0.2497\n",
       "98     0.1698\n",
       "99     0.0899\n",
       "100    0.0100\n",
       "Name: P, Length: 101, dtype: float64"
      ]
     },
     "execution_count": 19,
     "metadata": {},
     "output_type": "execute_result"
    }
   ],
   "source": [
    "column.P"
   ]
  },
  {
   "cell_type": "markdown",
   "metadata": {},
   "source": [
    "What about melt fraction?"
   ]
  },
  {
   "cell_type": "code",
   "execution_count": 20,
   "metadata": {},
   "outputs": [
    {
     "data": {
      "text/html": [
       "<div>\n",
       "<style scoped>\n",
       "    .dataframe tbody tr th:only-of-type {\n",
       "        vertical-align: middle;\n",
       "    }\n",
       "\n",
       "    .dataframe tbody tr th {\n",
       "        vertical-align: top;\n",
       "    }\n",
       "\n",
       "    .dataframe thead th {\n",
       "        text-align: right;\n",
       "    }\n",
       "</style>\n",
       "<table border=\"1\" class=\"dataframe\">\n",
       "  <thead>\n",
       "    <tr style=\"text-align: right;\">\n",
       "      <th></th>\n",
       "      <th>Lz</th>\n",
       "      <th>Px</th>\n",
       "      <th>Hz</th>\n",
       "    </tr>\n",
       "  </thead>\n",
       "  <tbody>\n",
       "    <tr>\n",
       "      <th>0</th>\n",
       "      <td>0.000000</td>\n",
       "      <td>0.000000</td>\n",
       "      <td>0.0</td>\n",
       "    </tr>\n",
       "    <tr>\n",
       "      <th>1</th>\n",
       "      <td>0.000000</td>\n",
       "      <td>0.000000</td>\n",
       "      <td>0.0</td>\n",
       "    </tr>\n",
       "    <tr>\n",
       "      <th>2</th>\n",
       "      <td>0.000000</td>\n",
       "      <td>0.000000</td>\n",
       "      <td>0.0</td>\n",
       "    </tr>\n",
       "    <tr>\n",
       "      <th>3</th>\n",
       "      <td>0.000000</td>\n",
       "      <td>0.000000</td>\n",
       "      <td>0.0</td>\n",
       "    </tr>\n",
       "    <tr>\n",
       "      <th>4</th>\n",
       "      <td>0.000000</td>\n",
       "      <td>0.000000</td>\n",
       "      <td>0.0</td>\n",
       "    </tr>\n",
       "    <tr>\n",
       "      <th>...</th>\n",
       "      <td>...</td>\n",
       "      <td>...</td>\n",
       "      <td>...</td>\n",
       "    </tr>\n",
       "    <tr>\n",
       "      <th>96</th>\n",
       "      <td>0.161637</td>\n",
       "      <td>0.813019</td>\n",
       "      <td>0.0</td>\n",
       "    </tr>\n",
       "    <tr>\n",
       "      <th>97</th>\n",
       "      <td>0.174772</td>\n",
       "      <td>0.834995</td>\n",
       "      <td>0.0</td>\n",
       "    </tr>\n",
       "    <tr>\n",
       "      <th>98</th>\n",
       "      <td>0.188123</td>\n",
       "      <td>0.857320</td>\n",
       "      <td>0.0</td>\n",
       "    </tr>\n",
       "    <tr>\n",
       "      <th>99</th>\n",
       "      <td>0.201684</td>\n",
       "      <td>0.880025</td>\n",
       "      <td>0.0</td>\n",
       "    </tr>\n",
       "    <tr>\n",
       "      <th>100</th>\n",
       "      <td>0.215447</td>\n",
       "      <td>0.903140</td>\n",
       "      <td>0.0</td>\n",
       "    </tr>\n",
       "  </tbody>\n",
       "</table>\n",
       "<p>101 rows × 3 columns</p>\n",
       "</div>"
      ],
      "text/plain": [
       "           Lz        Px   Hz\n",
       "0    0.000000  0.000000  0.0\n",
       "1    0.000000  0.000000  0.0\n",
       "2    0.000000  0.000000  0.0\n",
       "3    0.000000  0.000000  0.0\n",
       "4    0.000000  0.000000  0.0\n",
       "..        ...       ...  ...\n",
       "96   0.161637  0.813019  0.0\n",
       "97   0.174772  0.834995  0.0\n",
       "98   0.188123  0.857320  0.0\n",
       "99   0.201684  0.880025  0.0\n",
       "100  0.215447  0.903140  0.0\n",
       "\n",
       "[101 rows x 3 columns]"
      ]
     },
     "execution_count": 20,
     "metadata": {},
     "output_type": "execute_result"
    }
   ],
   "source": [
    "column.F"
   ]
  },
  {
   "cell_type": "markdown",
   "metadata": {},
   "source": [
    "This returns a `pandas.DataFrame`, a database-like object. Here we can see the pyroxenite is almost completely molten, but the lherzolite has only achieved 21.5% melting. But what is the aggregate melt fraction? We don't have to calculate this ourselves, pyMelt has already done it for us:"
   ]
  },
  {
   "cell_type": "code",
   "execution_count": 21,
   "metadata": {},
   "outputs": [
    {
     "data": {
      "text/plain": [
       "0      0.000000\n",
       "1      0.000000\n",
       "2      0.000000\n",
       "3      0.000000\n",
       "4      0.000000\n",
       "         ...   \n",
       "96     0.259586\n",
       "97     0.271862\n",
       "98     0.284338\n",
       "99     0.297016\n",
       "100    0.309896\n",
       "Length: 101, dtype: float64"
      ]
     },
     "execution_count": 21,
     "metadata": {},
     "output_type": "execute_result"
    }
   ],
   "source": [
    "column.F_total"
   ]
  },
  {
   "cell_type": "markdown",
   "metadata": {},
   "source": [
    "The pyroxenite has a sufficiently low abundance that it only contributes a small amount to the aggregate melt fraction."
   ]
  },
  {
   "cell_type": "markdown",
   "metadata": {},
   "source": [
    "To save this for further work outside of python, we could construct a `pandas.DataFrame`."
   ]
  },
  {
   "cell_type": "code",
   "execution_count": 22,
   "metadata": {},
   "outputs": [
    {
     "data": {
      "text/html": [
       "<div>\n",
       "<style scoped>\n",
       "    .dataframe tbody tr th:only-of-type {\n",
       "        vertical-align: middle;\n",
       "    }\n",
       "\n",
       "    .dataframe tbody tr th {\n",
       "        vertical-align: top;\n",
       "    }\n",
       "\n",
       "    .dataframe thead th {\n",
       "        text-align: right;\n",
       "    }\n",
       "</style>\n",
       "<table border=\"1\" class=\"dataframe\">\n",
       "  <thead>\n",
       "    <tr style=\"text-align: right;\">\n",
       "      <th></th>\n",
       "      <th>T</th>\n",
       "      <th>P</th>\n",
       "      <th>F_total</th>\n",
       "      <th>F_lz</th>\n",
       "      <th>F_px</th>\n",
       "    </tr>\n",
       "  </thead>\n",
       "  <tbody>\n",
       "    <tr>\n",
       "      <th>0</th>\n",
       "      <td>1570.371819</td>\n",
       "      <td>8.0000</td>\n",
       "      <td>0.000000</td>\n",
       "      <td>0.000000</td>\n",
       "      <td>0.000000</td>\n",
       "    </tr>\n",
       "    <tr>\n",
       "      <th>1</th>\n",
       "      <td>1568.587260</td>\n",
       "      <td>7.9201</td>\n",
       "      <td>0.000000</td>\n",
       "      <td>0.000000</td>\n",
       "      <td>0.000000</td>\n",
       "    </tr>\n",
       "    <tr>\n",
       "      <th>2</th>\n",
       "      <td>1566.804429</td>\n",
       "      <td>7.8402</td>\n",
       "      <td>0.000000</td>\n",
       "      <td>0.000000</td>\n",
       "      <td>0.000000</td>\n",
       "    </tr>\n",
       "    <tr>\n",
       "      <th>3</th>\n",
       "      <td>1565.023324</td>\n",
       "      <td>7.7603</td>\n",
       "      <td>0.000000</td>\n",
       "      <td>0.000000</td>\n",
       "      <td>0.000000</td>\n",
       "    </tr>\n",
       "    <tr>\n",
       "      <th>4</th>\n",
       "      <td>1563.243943</td>\n",
       "      <td>7.6804</td>\n",
       "      <td>0.000000</td>\n",
       "      <td>0.000000</td>\n",
       "      <td>0.000000</td>\n",
       "    </tr>\n",
       "    <tr>\n",
       "      <th>...</th>\n",
       "      <td>...</td>\n",
       "      <td>...</td>\n",
       "      <td>...</td>\n",
       "      <td>...</td>\n",
       "      <td>...</td>\n",
       "    </tr>\n",
       "    <tr>\n",
       "      <th>96</th>\n",
       "      <td>1246.554443</td>\n",
       "      <td>0.3296</td>\n",
       "      <td>0.259586</td>\n",
       "      <td>0.161637</td>\n",
       "      <td>0.813019</td>\n",
       "    </tr>\n",
       "    <tr>\n",
       "      <th>97</th>\n",
       "      <td>1239.172169</td>\n",
       "      <td>0.2497</td>\n",
       "      <td>0.271862</td>\n",
       "      <td>0.174772</td>\n",
       "      <td>0.834995</td>\n",
       "    </tr>\n",
       "    <tr>\n",
       "      <th>98</th>\n",
       "      <td>1231.719393</td>\n",
       "      <td>0.1698</td>\n",
       "      <td>0.284338</td>\n",
       "      <td>0.188123</td>\n",
       "      <td>0.857320</td>\n",
       "    </tr>\n",
       "    <tr>\n",
       "      <th>99</th>\n",
       "      <td>1224.196800</td>\n",
       "      <td>0.0899</td>\n",
       "      <td>0.297016</td>\n",
       "      <td>0.201684</td>\n",
       "      <td>0.880025</td>\n",
       "    </tr>\n",
       "    <tr>\n",
       "      <th>100</th>\n",
       "      <td>1216.604851</td>\n",
       "      <td>0.0100</td>\n",
       "      <td>0.309896</td>\n",
       "      <td>0.215447</td>\n",
       "      <td>0.903140</td>\n",
       "    </tr>\n",
       "  </tbody>\n",
       "</table>\n",
       "<p>101 rows × 5 columns</p>\n",
       "</div>"
      ],
      "text/plain": [
       "               T       P   F_total      F_lz      F_px\n",
       "0    1570.371819  8.0000  0.000000  0.000000  0.000000\n",
       "1    1568.587260  7.9201  0.000000  0.000000  0.000000\n",
       "2    1566.804429  7.8402  0.000000  0.000000  0.000000\n",
       "3    1565.023324  7.7603  0.000000  0.000000  0.000000\n",
       "4    1563.243943  7.6804  0.000000  0.000000  0.000000\n",
       "..           ...     ...       ...       ...       ...\n",
       "96   1246.554443  0.3296  0.259586  0.161637  0.813019\n",
       "97   1239.172169  0.2497  0.271862  0.174772  0.834995\n",
       "98   1231.719393  0.1698  0.284338  0.188123  0.857320\n",
       "99   1224.196800  0.0899  0.297016  0.201684  0.880025\n",
       "100  1216.604851  0.0100  0.309896  0.215447  0.903140\n",
       "\n",
       "[101 rows x 5 columns]"
      ]
     },
     "execution_count": 22,
     "metadata": {},
     "output_type": "execute_result"
    }
   ],
   "source": [
    "results = pd.DataFrame()\n",
    "\n",
    "results['T'] = column.T\n",
    "results['P'] = column.P\n",
    "results['F_total'] = column.F_total\n",
    "results['F_lz'] = column.F['Lz']\n",
    "results['F_px'] = column.F['Px']\n",
    "results"
   ]
  },
  {
   "cell_type": "markdown",
   "metadata": {},
   "source": [
    "Calling `results.to_csv('my_results.csv')` will save this as a csv file in your working directory."
   ]
  },
  {
   "cell_type": "markdown",
   "metadata": {},
   "source": [
    "## Calculating Crustal Thickness\n",
    "Crustal thickness can be calculated assuming passive decompression melting in a triangular spreading centre melting region similar to that of a mid-ocean ridge. If this is the case the melt fractions must be integrated over the column using the ```integrate_tri()``` method to return a crustal thickness in km."
   ]
  },
  {
   "cell_type": "code",
   "execution_count": 23,
   "metadata": {},
   "outputs": [
    {
     "data": {
      "text/plain": [
       "12.76562411169025"
      ]
     },
     "execution_count": 23,
     "metadata": {},
     "output_type": "execute_result"
    }
   ],
   "source": [
    "column.integrate_tri()"
   ]
  },
  {
   "cell_type": "markdown",
   "metadata": {},
   "source": [
    "This returns the value of the crustal thickness, but it has also added the intermediate results into the column object as the attributes:\n",
    "* ```dtcdP```: results from Eq(6) (White et al., 1992) for the total melt fraction.\n",
    "* ```tc_int```: integrated crustal thickness as a function of pressure (up to 0 GPa).\n",
    "* ```tc_P_int```: pressure exerted by the integrated crustal thickness as a function of pressure (up to 0 GPa).\n",
    "* ```tc```: integrated crustal thickness at the point where the pressure it exerts is equal to the calculation pressure.\n",
    "* ```P_base_of_crust```: pressure at the base of the crust, at the point where the pressure the generated crust exerts is equal to the calculation pressure.\n",
    "* ```tc_lithology_contributions_int```: integrated proportion of generated crust derived from each lithology as a function of pressure.\n",
    "* ```tc_lithology_contributions``` integrated proportion of generated crust derived from each lithology where the pressure the generated crust exerts is equal to the calculation pressure.\n",
    "\n",
    "If we want to know how much each lithology contributes to the crust, we can call the `tc_lithology_contributions` attribute:"
   ]
  },
  {
   "cell_type": "code",
   "execution_count": 24,
   "metadata": {},
   "outputs": [
    {
     "data": {
      "text/plain": [
       "array([0.19946515, 0.80053485, 0.        ])"
      ]
     },
     "execution_count": 24,
     "metadata": {},
     "output_type": "execute_result"
    }
   ],
   "source": [
    "column.tc_lithology_contributions"
   ]
  },
  {
   "cell_type": "markdown",
   "metadata": {},
   "source": [
    "In this case the pyroxenite dominates the accumulated melt."
   ]
  },
  {
   "cell_type": "markdown",
   "metadata": {},
   "source": [
    "## Melt liquidus temperature\n",
    "pyMelt can be used to estimate the liquidus of mantle-derived melts (crystallisation temperature). This is achieved using the ```MeltCrystallisationT()``` method. Triangular integration must have been performed beforehand to achieve a liquidus temperature, else an error will be returned.\n"
   ]
  },
  {
   "cell_type": "code",
   "execution_count": 25,
   "metadata": {},
   "outputs": [
    {
     "data": {
      "text/plain": [
       "(1250.7364070896822, 1345.0235786794676)"
      ]
     },
     "execution_count": 25,
     "metadata": {},
     "output_type": "execute_result"
    }
   ],
   "source": [
    "column.MeltCrystallisationT()"
   ]
  },
  {
   "cell_type": "markdown",
   "metadata": {},
   "source": [
    "This function returns two crystallisation temperature estimates, the first for the melts at the top of the melting column (the shallowest melts), and the second for the melts at the bottom of the melting column (the deepest melts). Both cases assume thermal (and chemical) isolation of the melts during ascent.\n",
    "\n",
    "See Matthews et al. (2016) or Matthews et al. (2021) for more information about this calculation. To recreate the results from Matthews et al. (2021), the lower crystallisation temperature estimate should be used. Check the documentation to see how the parameters of the calculation may be changed."
   ]
  },
  {
   "cell_type": "code",
   "execution_count": null,
   "metadata": {},
   "outputs": [],
   "source": []
  }
 ],
 "metadata": {
  "kernelspec": {
   "display_name": "Python 3",
   "language": "python",
   "name": "python3"
  },
  "language_info": {
   "codemirror_mode": {
    "name": "ipython",
    "version": 3
   },
   "file_extension": ".py",
   "mimetype": "text/x-python",
   "name": "python",
   "nbconvert_exporter": "python",
   "pygments_lexer": "ipython3",
   "version": "3.7.6"
  }
 },
 "nbformat": 4,
 "nbformat_minor": 4
}
