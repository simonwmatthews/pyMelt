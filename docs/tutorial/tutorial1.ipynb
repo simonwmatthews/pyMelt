{
 "cells": [
  {
   "cell_type": "markdown",
   "metadata": {},
   "source": [
    "# Tutorial 1 - Getting Started\n",
    "Simon Matthews (University of Iceland) and Kevin Wong (University of Leeds)\n",
    "\n",
    "## Introduction\n",
    "\n",
    "PyMelt is a python package for calculating the melting behaviour of mantle comprising multiple lithologies. The module implements the melting equations developed by Phipps Morgan (2001) to calculate the melting behaviour of mantle comprising any chosen lithology. \n",
    "\n",
    "Currently supported calculations:\n",
    "\n",
    "* Adiabatic decompression melting\n",
    "* Isobaric melting\n",
    "\n",
    "Parameters that can be calculated:\n",
    "\n",
    "* The geotherm for decompressing mantle\n",
    "* Melt fractions for each lithology\n",
    "* Crustal thickness for passive-upwelling at a mid-ocean ridge\n",
    "* Crystallisation temperatures (following the method in Matthews et al., 2016)\n",
    "* Trace element concentrations from mantle melting (following the method in McKenzie and O'Nions, 1991)\n",
    "\n",
    "## Installing pyMelt\n",
    "See the github readme or the readthedocs documentation for installation instructions.\n",
    "\n",
    "Once pyMelt is installed, it can be imported:"
   ]
  },
  {
   "cell_type": "code",
   "execution_count": 2,
   "metadata": {},
   "outputs": [],
   "source": [
    "import pyMelt as m"
   ]
  },
  {
   "cell_type": "markdown",
   "metadata": {},
   "source": [
    "Adding `as m` to the end of the instruction allows us to use the shorthand `m` when accessing the module.\n",
    "\n",
    "We will also use the `numpy`, `pandas`, and `matplotlib.pyplot` libraries in this tutorial:"
   ]
  },
  {
   "cell_type": "code",
   "execution_count": 3,
   "metadata": {},
   "outputs": [],
   "source": [
    "import numpy as np\n",
    "import matplotlib.pyplot as plt\n",
    "import pandas as pd"
   ]
  },
  {
   "cell_type": "markdown",
   "metadata": {},
   "source": [
    "## Lithology objects\n",
    "PyMelt offers a number of different lithologies that can be thermodynamically modelled either separately or in combination. Among these lithologies are the new parameterisations for KLB-1, KG1, and silica-saturated pyroxenite of Matthews et al., 2021. The total lithologies included in the module are:\n",
    "\n",
    "* ```m.lithologies.ball.depleted_mantle```: lherzolite (Ball et al., 2022)\n",
    "* ```m.lithologies.ball.primitive_mantle```: lherzolite (Ball et al., 2022)\n",
    "* ```m.lithologies.ball.mixed_mantle```: lherzolite (Ball et al., 2022)\n",
    "* ```m.lithologies.katz.lherzolite```: lherzolite (Katz et al., 2003)\n",
    "* ```m.lithologies.matthews.klb1```: KLB-1 lherzolite (Matthews et al., 2021)\n",
    "* ```m.lithologies.matthews.kg1```: KG1 silica-undersaturated pyroxenite (Matthews et al., 2021)\n",
    "* ```m.lithologies.matthews.eclogite```: silica-saturated pyroxenite (Matthews et al., 2021)\n",
    "* ```m.lithologies.mckenzie.lherzolite```: lherzolite (McKenzie & Bickle (1988)\n",
    "* ```m.lithologies.pertermann.g2```: G2 pyroxenite (Pertermann & Hirschmann, 2002)\n",
    "* ```m.lithologies.shorttle.kg1```: KG1 silica-undersaturated pyroxenite (Shorttle et al. 2014)\n",
    "* ```m.lithologies.shorttle.harzburgite```: non-melting harzburgite (after Shorttle et al., 2014)\n",
    "\n",
    "Each lithology is treated as a Python object, and an instance can be assigned to a variable:"
   ]
  },
  {
   "cell_type": "code",
   "execution_count": 4,
   "metadata": {},
   "outputs": [],
   "source": [
    "lz = m.lithologies.matthews.klb1()\n",
    "px = m.lithologies.matthews.kg1()\n",
    "hz = m.lithologies.shorttle.harzburgite()"
   ]
  },
  {
   "cell_type": "markdown",
   "metadata": {},
   "source": [
    "Each lithology object contains methods describing its thermodynamic properties. Most of these methods are hidden and they vary from model to model, depending on how it is formulated. However, every lithology has the following methods:\n",
    "* ```TSolidus(P)```: temperature of the lithology solidus (&deg;C) at a given pressure in GPa\n",
    "* ```TLiquidus(P)```: temperature of the lithology liquidus (&deg;C) at a given pressure in GPa\n",
    "* ```F(P, T)```: melt fraction of the lithology at a given pressure (GPa) and temperature (&deg;C)\n",
    "* ```dTdF(P, T)```: dT/dF of the lithology at a constant pressure\n",
    "* ```dTdP(P, T)```: dT/dP of the lithology at a constant melt fraction\n",
    "These can be called to get the properties of the lithology at particular temperatures and pressures, for example:"
   ]
  },
  {
   "cell_type": "code",
   "execution_count": 5,
   "metadata": {},
   "outputs": [
    {
     "name": "stdout",
     "output_type": "stream",
     "text": [
      "At 2 GPa the solidus temperature is 1397.6˚C \n",
      " and the liquidus temperature is: 1911.3˚C. \n",
      "At 1500˚C and 2 GPa the melt fraction is 0.25\n"
     ]
    }
   ],
   "source": [
    "lz_solidus = lz.TSolidus(2.0)\n",
    "lz_liquidus = lz.TLiquidus(2.0)\n",
    "lz_F = lz.F(2.0, 1500.0)\n",
    "print(\"At 2 GPa the solidus temperature is {:.1f}˚C \\n and the liquidus temperature is: {:.1f}˚C. \\nAt 1500˚C and 2 GPa the melt fraction is {:.2f}\".format(lz_solidus, lz_liquidus, lz_F))"
   ]
  },
  {
   "cell_type": "markdown",
   "metadata": {},
   "source": [
    "Throughout pyMelt the units of temperature are always ˚C, and the units of pressure are always GPa.\n",
    "\n",
    "We could go one step further and make a plot of the solidus and liquidus temperature for one of the lithologies:"
   ]
  },
  {
   "cell_type": "code",
   "execution_count": 6,
   "metadata": {},
   "outputs": [
    {
     "data": {
      "image/png": "[encoded data removed]",
      "text/plain": [
       "<Figure size 600x400 with 1 Axes>"
      ]
     },
     "metadata": {
      "needs_background": "light"
     },
     "output_type": "display_data"
    }
   ],
   "source": [
    "p = np.linspace(0.0,3.0,31)\n",
    "\n",
    "tliq = np.zeros(np.shape(p))\n",
    "tsol = np.zeros(np.shape(p))\n",
    "\n",
    "for i in range(len(p)):\n",
    "    tliq[i] = lz.TLiquidus(p[i])\n",
    "    tsol[i] = lz.TSolidus(p[i])\n",
    "\n",
    "f,a = plt.subplots(dpi=100)\n",
    "a.plot(p, tliq, label='Liquidus')\n",
    "a.plot(p, tsol, label='Solidus')\n",
    "a.set_xlabel('Pressure (GPa)')\n",
    "a.set_ylabel('Temperature (˚C)')\n",
    "a.legend()\n",
    "plt.show()"
   ]
  },
  {
   "cell_type": "markdown",
   "metadata": {},
   "source": [
    "To see a list of the methods available for any python object, the following can be used within a Jupyter notebook to get access to its documentation."
   ]
  },
  {
   "cell_type": "code",
   "execution_count": 7,
   "metadata": {},
   "outputs": [],
   "source": [
    "lz?"
   ]
  },
  {
   "cell_type": "markdown",
   "metadata": {},
   "source": [
    "## Mantle objects\n",
    "\n",
    "A ```mantle``` object is constructed from one or multiple lithologies in specified proportions, and comprises three arguments.\n",
    "\n",
    "* `lithologies`: a list of the defined lithology objects to be considered in the melting calculation.\n",
    "* `proportions`: a list of floats (of equivalent length to the list of Argument 1) comprising the relative proportions of the lithologies listed in Argument 1. The floats do not have to be normalised.\n",
    "* `names`: a list of strings (of equivalent length to the other lists) comprising the names by which the lithologies  will be labelled. These strings will be used in data outputs. This can be ommitted, but the results will be unlabelled.\n",
    "\n",
    "As a demonstration, we can define a three-component mantle. Note that the code is not limited to three lithologies, and can (in principle) have any number of lithologies:"
   ]
  },
  {
   "cell_type": "code",
   "execution_count": 8,
   "metadata": {},
   "outputs": [],
   "source": [
    "mantle = m.mantle([lz, px, hz], [6, 2, 2], ['Lz', 'Px', 'Hz'])"
   ]
  },
  {
   "cell_type": "markdown",
   "metadata": {},
   "source": [
    "Here are some of the methods that can be called from the ```mantle``` class:\n",
    "\n",
    "The bulk thermodynamic properties of the solid mantle can be called:"
   ]
  },
  {
   "cell_type": "code",
   "execution_count": 9,
   "metadata": {},
   "outputs": [
    {
     "data": {
      "text/plain": [
       "{'alpha': 38.0, 'CP': 1000.0, 'rho': 3.2899999999999996}"
      ]
     },
     "execution_count": 9,
     "metadata": {},
     "output_type": "execute_result"
    }
   ],
   "source": [
    "mantle.bulkProperties()"
   ]
  },
  {
   "cell_type": "markdown",
   "metadata": {},
   "source": [
    "Does this change once the mantle is molten?"
   ]
  },
  {
   "cell_type": "code",
   "execution_count": 10,
   "metadata": {},
   "outputs": [
    {
     "data": {
      "text/plain": [
       "{'alpha': 40.67799443726366, 'CP': 1000.0, 'rho': 3.2517429366105186}"
      ]
     },
     "execution_count": 10,
     "metadata": {},
     "output_type": "execute_result"
    }
   ],
   "source": [
    "mantle.bulkProperties(T=1400.0, P=2.0)"
   ]
  },
  {
   "cell_type": "markdown",
   "metadata": {},
   "source": [
    "To find out when one of the lithologies will start melting, we can call either the `solid_intersection_isobaric` method if we are interested in a particular pressure, or we can find out at what pressure the mantle will beginning melting during decompression for a given $T_p$ (potential temperature):"
   ]
  },
  {
   "cell_type": "code",
   "execution_count": 11,
   "metadata": {},
   "outputs": [
    {
     "data": {
      "text/plain": [
       "array([1397.57332987, 1292.55257242,           inf])"
      ]
     },
     "execution_count": 11,
     "metadata": {},
     "output_type": "execute_result"
    }
   ],
   "source": [
    "mantle.solidusIntersectionIsobaric(2.0)"
   ]
  },
  {
   "cell_type": "code",
   "execution_count": 12,
   "metadata": {},
   "outputs": [
    {
     "data": {
      "text/plain": [
       "array([3.12437893, 4.38523594,        nan])"
      ]
     },
     "execution_count": 12,
     "metadata": {},
     "output_type": "execute_result"
    }
   ],
   "source": [
    "mantle.solidusIntersection(1450.0)"
   ]
  },
  {
   "cell_type": "markdown",
   "metadata": {},
   "source": [
    "Notice that three values were returned, one for each lithology. Since the third lithology is the non-melting harzburgite from Shorttle et al. (2014), it doesn't have a solidus intersection. If we just wanted to know at what temperature the mantle would start melting, but we didn't care which lithology, we could write:"
   ]
  },
  {
   "cell_type": "code",
   "execution_count": 13,
   "metadata": {},
   "outputs": [
    {
     "data": {
      "text/plain": [
       "1292.5525724175186"
      ]
     },
     "execution_count": 13,
     "metadata": {},
     "output_type": "execute_result"
    }
   ],
   "source": [
    "np.nanmin(mantle.solidusIntersectionIsobaric(2.0))"
   ]
  },
  {
   "cell_type": "markdown",
   "metadata": {},
   "source": [
    "We often talk about mantle temperatures in terms of $T_p$, but sometimes we want to know what temperature this equates to in the solid mantle. The `adiabat` method will do this. To see the required inputs we can use:"
   ]
  },
  {
   "cell_type": "code",
   "execution_count": 14,
   "metadata": {},
   "outputs": [],
   "source": [
    "mantle.adiabat?"
   ]
  },
  {
   "cell_type": "markdown",
   "metadata": {},
   "source": [
    "So we must specify the pressure and temperature. Note that the documentation specifies this will be the temperature of **solid** mantle. The adiabatic path taken by semi-molten mantle must be calculated by running a full decompression melting calculation (see below). "
   ]
  },
  {
   "cell_type": "code",
   "execution_count": 15,
   "metadata": {},
   "outputs": [
    {
     "data": {
      "text/plain": [
       "1492.6105400862434"
      ]
     },
     "execution_count": 15,
     "metadata": {},
     "output_type": "execute_result"
    }
   ],
   "source": [
    "mantle.adiabat(10.0, 1300.0)"
   ]
  },
  {
   "cell_type": "markdown",
   "metadata": {},
   "source": [
    "Stepping back into the world of partially-molten mantle, perhaps we want to know the melt fractions of each lithology at a given temperature and pressure. Just like the pure lithology objects, the `F` method will perform this calculation:"
   ]
  },
  {
   "cell_type": "code",
   "execution_count": 16,
   "metadata": {},
   "outputs": [
    {
     "data": {
      "text/plain": [
       "array([0.00185681, 0.47264287, 0.        ])"
      ]
     },
     "execution_count": 16,
     "metadata": {},
     "output_type": "execute_result"
    }
   ],
   "source": [
    "mantle.F(2.0, 1400.0)"
   ]
  },
  {
   "cell_type": "markdown",
   "metadata": {},
   "source": [
    "## Adiabatic decompression melting\n",
    "To calculate the consequences of adiabatic decompression melting for this ```mantle``` object, the method ```adiabaticMelt``` can be called which will return a new ```meltingColumn``` object:"
   ]
  },
  {
   "cell_type": "code",
   "execution_count": 17,
   "metadata": {},
   "outputs": [],
   "source": [
    "column = mantle.adiabaticMelt(1400.0)"
   ]
  },
  {
   "cell_type": "markdown",
   "metadata": {},
   "source": [
    "This performed the calculation for a $T_p$ of 1400˚C. The way the calculation is performed can be modified, look up the documentation for the other (optional) arguments.\n",
    "\n",
    "What is going on behind the scenes? This method performs a simultaneous integration of $\\frac{dF}{dP}$ and $\\frac{dT}{dP}$ to obtain the thermal gradient through the melting region. The melt fraction $F$ of each lithology is then calculated at the same time. Integration is performed using a fourth-order Runge-Kutta algorithm.\n",
    "\n",
    "pyMelt provides a built in method `plot` to quickly visualise the results of the calculation."
   ]
  },
  {
   "cell_type": "code",
   "execution_count": 18,
   "metadata": {},
   "outputs": [
    {
     "data": {
      "image/png": "[encoded data removed]",
      "text/plain": [
       "<Figure size 600x400 with 2 Axes>"
      ]
     },
     "metadata": {
      "needs_background": "light"
     },
     "output_type": "display_data"
    }
   ],
   "source": [
    "f,a = column.plot()"
   ]
  },
  {
   "cell_type": "markdown",
   "metadata": {},
   "source": [
    "Often we want to use these results further, however. We can access the results, like temperature:"
   ]
  },
  {
   "cell_type": "code",
   "execution_count": 19,
   "metadata": {},
   "outputs": [
    {
     "data": {
      "text/plain": [
       "0      1471.826036\n",
       "1      1471.745419\n",
       "2      1471.635224\n",
       "3      1471.519684\n",
       "4      1471.400187\n",
       "          ...     \n",
       "903    1218.808663\n",
       "904    1218.428828\n",
       "905    1218.048819\n",
       "906    1217.668638\n",
       "907    1217.288284\n",
       "Name: T, Length: 908, dtype: float64"
      ]
     },
     "execution_count": 19,
     "metadata": {},
     "output_type": "execute_result"
    }
   ],
   "source": [
    "column.T"
   ]
  },
  {
   "cell_type": "markdown",
   "metadata": {},
   "source": [
    "This returned a `pandas.Series` object, with 908 values. To keep the notebook tidy, the printout is automatically truncated. But what pressures do these correspond to?"
   ]
  },
  {
   "cell_type": "code",
   "execution_count": 20,
   "metadata": {},
   "outputs": [
    {
     "data": {
      "text/plain": [
       "0      3.639151\n",
       "1      3.635151\n",
       "2      3.631151\n",
       "3      3.627151\n",
       "4      3.623151\n",
       "         ...   \n",
       "903    0.027151\n",
       "904    0.023151\n",
       "905    0.019151\n",
       "906    0.015151\n",
       "907    0.011151\n",
       "Name: P, Length: 908, dtype: float64"
      ]
     },
     "execution_count": 20,
     "metadata": {},
     "output_type": "execute_result"
    }
   ],
   "source": [
    "column.P"
   ]
  },
  {
   "cell_type": "markdown",
   "metadata": {},
   "source": [
    "What about melt fraction?"
   ]
  },
  {
   "cell_type": "code",
   "execution_count": 21,
   "metadata": {},
   "outputs": [
    {
     "data": {
      "text/plain": [
       "0      0.000000\n",
       "1      0.000039\n",
       "2      0.000096\n",
       "3      0.000163\n",
       "4      0.000237\n",
       "         ...   \n",
       "903    0.308970\n",
       "904    0.309622\n",
       "905    0.310275\n",
       "906    0.310928\n",
       "907    0.311582\n",
       "Length: 908, dtype: float64"
      ]
     },
     "execution_count": 21,
     "metadata": {},
     "output_type": "execute_result"
    }
   ],
   "source": [
    "column.F"
   ]
  },
  {
   "cell_type": "markdown",
   "metadata": {},
   "source": [
    "This returns the total melt fraction, but what about the melt fractions for each lithology?"
   ]
  },
  {
   "cell_type": "code",
   "execution_count": 22,
   "metadata": {},
   "outputs": [
    {
     "data": {
      "text/plain": [
       "0      0.000000\n",
       "1      0.000000\n",
       "2      0.000000\n",
       "3      0.000000\n",
       "4      0.000000\n",
       "         ...   \n",
       "903    0.214646\n",
       "904    0.215343\n",
       "905    0.216042\n",
       "906    0.216740\n",
       "907    0.217440\n",
       "Name: F, Length: 908, dtype: float64"
      ]
     },
     "execution_count": 22,
     "metadata": {},
     "output_type": "execute_result"
    }
   ],
   "source": [
    "column.lithologies['Lz'].F"
   ]
  },
  {
   "cell_type": "code",
   "execution_count": 23,
   "metadata": {},
   "outputs": [
    {
     "data": {
      "text/plain": [
       "0      0.000000\n",
       "1      0.000197\n",
       "2      0.000479\n",
       "3      0.000813\n",
       "4      0.001184\n",
       "         ...   \n",
       "903    0.900913\n",
       "904    0.902081\n",
       "905    0.903250\n",
       "906    0.904420\n",
       "907    0.905592\n",
       "Name: F, Length: 908, dtype: float64"
      ]
     },
     "execution_count": 23,
     "metadata": {},
     "output_type": "execute_result"
    }
   ],
   "source": [
    "column.lithologies['Px'].F"
   ]
  },
  {
   "cell_type": "markdown",
   "metadata": {},
   "source": [
    "Here we can see the pyroxenite is almost completely molten, but the lherzolite has only achieved 21.5% melting. The pyroxenite has a sufficiently low abundance that it only contributes a small amount to the aggregate melt fraction."
   ]
  },
  {
   "cell_type": "markdown",
   "metadata": {},
   "source": [
    "To save this for further work outside of python, we could construct a `pandas.DataFrame`."
   ]
  },
  {
   "cell_type": "code",
   "execution_count": 24,
   "metadata": {},
   "outputs": [
    {
     "data": {
      "text/html": [
       "<div>\n",
       "<style scoped>\n",
       "    .dataframe tbody tr th:only-of-type {\n",
       "        vertical-align: middle;\n",
       "    }\n",
       "\n",
       "    .dataframe tbody tr th {\n",
       "        vertical-align: top;\n",
       "    }\n",
       "\n",
       "    .dataframe thead th {\n",
       "        text-align: right;\n",
       "    }\n",
       "</style>\n",
       "<table border=\"1\" class=\"dataframe\">\n",
       "  <thead>\n",
       "    <tr style=\"text-align: right;\">\n",
       "      <th></th>\n",
       "      <th>T</th>\n",
       "      <th>P</th>\n",
       "      <th>F_total</th>\n",
       "      <th>F_lz</th>\n",
       "      <th>F_px</th>\n",
       "    </tr>\n",
       "  </thead>\n",
       "  <tbody>\n",
       "    <tr>\n",
       "      <th>0</th>\n",
       "      <td>1471.826036</td>\n",
       "      <td>3.639151</td>\n",
       "      <td>0.000000</td>\n",
       "      <td>0.000000</td>\n",
       "      <td>0.000000</td>\n",
       "    </tr>\n",
       "    <tr>\n",
       "      <th>1</th>\n",
       "      <td>1471.745419</td>\n",
       "      <td>3.635151</td>\n",
       "      <td>0.000039</td>\n",
       "      <td>0.000000</td>\n",
       "      <td>0.000197</td>\n",
       "    </tr>\n",
       "    <tr>\n",
       "      <th>2</th>\n",
       "      <td>1471.635224</td>\n",
       "      <td>3.631151</td>\n",
       "      <td>0.000096</td>\n",
       "      <td>0.000000</td>\n",
       "      <td>0.000479</td>\n",
       "    </tr>\n",
       "    <tr>\n",
       "      <th>3</th>\n",
       "      <td>1471.519684</td>\n",
       "      <td>3.627151</td>\n",
       "      <td>0.000163</td>\n",
       "      <td>0.000000</td>\n",
       "      <td>0.000813</td>\n",
       "    </tr>\n",
       "    <tr>\n",
       "      <th>4</th>\n",
       "      <td>1471.400187</td>\n",
       "      <td>3.623151</td>\n",
       "      <td>0.000237</td>\n",
       "      <td>0.000000</td>\n",
       "      <td>0.001184</td>\n",
       "    </tr>\n",
       "    <tr>\n",
       "      <th>...</th>\n",
       "      <td>...</td>\n",
       "      <td>...</td>\n",
       "      <td>...</td>\n",
       "      <td>...</td>\n",
       "      <td>...</td>\n",
       "    </tr>\n",
       "    <tr>\n",
       "      <th>903</th>\n",
       "      <td>1218.808663</td>\n",
       "      <td>0.027151</td>\n",
       "      <td>0.308970</td>\n",
       "      <td>0.214646</td>\n",
       "      <td>0.900913</td>\n",
       "    </tr>\n",
       "    <tr>\n",
       "      <th>904</th>\n",
       "      <td>1218.428828</td>\n",
       "      <td>0.023151</td>\n",
       "      <td>0.309622</td>\n",
       "      <td>0.215343</td>\n",
       "      <td>0.902081</td>\n",
       "    </tr>\n",
       "    <tr>\n",
       "      <th>905</th>\n",
       "      <td>1218.048819</td>\n",
       "      <td>0.019151</td>\n",
       "      <td>0.310275</td>\n",
       "      <td>0.216042</td>\n",
       "      <td>0.903250</td>\n",
       "    </tr>\n",
       "    <tr>\n",
       "      <th>906</th>\n",
       "      <td>1217.668638</td>\n",
       "      <td>0.015151</td>\n",
       "      <td>0.310928</td>\n",
       "      <td>0.216740</td>\n",
       "      <td>0.904420</td>\n",
       "    </tr>\n",
       "    <tr>\n",
       "      <th>907</th>\n",
       "      <td>1217.288284</td>\n",
       "      <td>0.011151</td>\n",
       "      <td>0.311582</td>\n",
       "      <td>0.217440</td>\n",
       "      <td>0.905592</td>\n",
       "    </tr>\n",
       "  </tbody>\n",
       "</table>\n",
       "<p>908 rows × 5 columns</p>\n",
       "</div>"
      ],
      "text/plain": [
       "               T         P   F_total      F_lz      F_px\n",
       "0    1471.826036  3.639151  0.000000  0.000000  0.000000\n",
       "1    1471.745419  3.635151  0.000039  0.000000  0.000197\n",
       "2    1471.635224  3.631151  0.000096  0.000000  0.000479\n",
       "3    1471.519684  3.627151  0.000163  0.000000  0.000813\n",
       "4    1471.400187  3.623151  0.000237  0.000000  0.001184\n",
       "..           ...       ...       ...       ...       ...\n",
       "903  1218.808663  0.027151  0.308970  0.214646  0.900913\n",
       "904  1218.428828  0.023151  0.309622  0.215343  0.902081\n",
       "905  1218.048819  0.019151  0.310275  0.216042  0.903250\n",
       "906  1217.668638  0.015151  0.310928  0.216740  0.904420\n",
       "907  1217.288284  0.011151  0.311582  0.217440  0.905592\n",
       "\n",
       "[908 rows x 5 columns]"
      ]
     },
     "execution_count": 24,
     "metadata": {},
     "output_type": "execute_result"
    }
   ],
   "source": [
    "results = pd.DataFrame()\n",
    "\n",
    "results['T'] = column.T\n",
    "results['P'] = column.P\n",
    "results['F_total'] = column.F\n",
    "results['F_lz'] = column.lithologies['Lz'].F\n",
    "results['F_px'] = column.lithologies['Px'].F\n",
    "results"
   ]
  },
  {
   "cell_type": "markdown",
   "metadata": {},
   "source": [
    "Calling `results.to_csv('my_results.csv')` will save this as a csv file in your working directory."
   ]
  },
  {
   "cell_type": "markdown",
   "metadata": {},
   "source": [
    "## Calculating Crustal Thickness at a MOR\n",
    "Crustal thickness can be calculated assuming passive decompression melting in a triangular spreading centre melting region similar to that of a mid-ocean ridge. As part of the ```pyMelt.geosettings``` module, there is a ```spreadingCentre``` object. When a ```spreadingCentre``` object is created from the ```meltingColumn``` object, the melt fractions are integrated to obtain the crustal thickness, and more shallow melts are removed."
   ]
  },
  {
   "cell_type": "code",
   "execution_count": 25,
   "metadata": {},
   "outputs": [],
   "source": [
    "morb = m.geosettings.spreadingCentre(column)"
   ]
  },
  {
   "cell_type": "markdown",
   "metadata": {},
   "source": [
    "The new object we created contains the attributes:\n",
    "* ```tc```: integrated crustal thickness at the point where the pressure it exerts is equal to the calculation pressure.\n",
    "* ```P_base_of_crust```: pressure at the base of the crust, at the point where the pressure the generated crust exerts is equal to the calculation pressure.\n",
    "* ```lithology_contributions``` integrated proportion of generated crust derived from each lithology where the pressure the generated crust exerts is equal to the calculation pressure.\n",
    "As well as many of the same attributes as the column.\n",
    "\n",
    "To see the crustal thickness:"
   ]
  },
  {
   "cell_type": "code",
   "execution_count": 26,
   "metadata": {},
   "outputs": [
    {
     "data": {
      "text/plain": [
       "11.749475892828006"
      ]
     },
     "execution_count": 26,
     "metadata": {},
     "output_type": "execute_result"
    }
   ],
   "source": [
    "morb.tc"
   ]
  },
  {
   "cell_type": "markdown",
   "metadata": {},
   "source": [
    "If we want to know how much each lithology contributes to the crust, we can call the `lithology_contributions` attribute:"
   ]
  },
  {
   "cell_type": "code",
   "execution_count": 27,
   "metadata": {},
   "outputs": [
    {
     "data": {
      "text/plain": [
       "{'Lz': 0.18695473789221223, 'Px': 0.8130452621077877, 'Hz': 0.0}"
      ]
     },
     "execution_count": 27,
     "metadata": {},
     "output_type": "execute_result"
    }
   ],
   "source": [
    "morb.lithology_contributions"
   ]
  },
  {
   "cell_type": "markdown",
   "metadata": {},
   "source": [
    "In this case the pyroxenite dominates the accumulated melt."
   ]
  },
  {
   "cell_type": "markdown",
   "metadata": {},
   "source": [
    "## Melt liquidus temperature\n",
    "pyMelt can be used to estimate the liquidus of mantle-derived melts (crystallisation temperature). This is achieved using the ```meltCrystallisationT()``` method. Triangular integration must have been performed beforehand to achieve a liquidus temperature, else an error will be returned.\n"
   ]
  },
  {
   "cell_type": "code",
   "execution_count": 28,
   "metadata": {},
   "outputs": [
    {
     "data": {
      "text/plain": [
       "(1251.5461972868964, 1344.235728651589)"
      ]
     },
     "execution_count": 28,
     "metadata": {},
     "output_type": "execute_result"
    }
   ],
   "source": [
    "morb.meltCrystallisationT()"
   ]
  },
  {
   "cell_type": "markdown",
   "metadata": {},
   "source": [
    "This function returns two crystallisation temperature estimates, the first for the melts at the top of the melting column (the shallowest melts), and the second for the melts at the bottom of the melting column (the deepest melts). Both cases assume thermal (and chemical) isolation of the melts during ascent.\n",
    "\n",
    "See Matthews et al. (2016) or Matthews et al. (2021) for more information about this calculation. To recreate the results from Matthews et al. (2021), the lower crystallisation temperature estimate should be used.\n",
    "\n",
    "If we want to change the pressure at which melts are extracted and subsequently crystallise, we can adjust the arguments ```ShallowMeltP``` and ```MeltStorageP``` respectively.   "
   ]
  },
  {
   "cell_type": "code",
   "execution_count": 29,
   "metadata": {},
   "outputs": [
    {
     "data": {
      "text/plain": [
       "(1246.9686620926188, 1333.3089115412424)"
      ]
     },
     "execution_count": 29,
     "metadata": {},
     "output_type": "execute_result"
    }
   ],
   "source": [
    "morb.meltCrystallisationT(ShallowMeltP=0.5, MeltStorageP=0.1)"
   ]
  },
  {
   "cell_type": "markdown",
   "metadata": {},
   "source": [
    "## Calculating Melt Flux at an Ocean Island\n",
    "Another class in the ```pyMelt.geosetting``` module is ```intraPlate```, a very simplistic implementation of a plume upwelling beneath lithosphere. This requires a few more arguments than when creating a ```spreadingCentre```, given by the documentation:"
   ]
  },
  {
   "cell_type": "code",
   "execution_count": 30,
   "metadata": {},
   "outputs": [],
   "source": [
    "m.geosettings.intraPlate?"
   ]
  },
  {
   "cell_type": "markdown",
   "metadata": {},
   "source": [
    "If you don't wish to calculate a melt flux, the ```relative_density``` argument may be ignored. You might want to do this if you are calculating melt chemistry (see Tutorial 3), or if you want an easy way of cutting off the top of the melting column. The relative density of the plume compared with ambient mantle determines the upwelling velocity, and therefore the melt production over time. pyMelt does not directly estimate lithology density. The approach used by Shorttle et al. (2014) and Matthews et al. (2021) was to calculate lithology densities as a a function of temperature (at fixed pressure for simplicity) using THERMOCALC. A lookup table was then used to extract an appropriate $\\Delta \\rho$. To illustrate the calculation we will use an abitrary value of $\\Delta \\rho = 0.2$ kg m$^{-3}$:"
   ]
  },
  {
   "cell_type": "code",
   "execution_count": 31,
   "metadata": {},
   "outputs": [],
   "source": [
    "oib = m.geosettings.intraPlate(column, P_lithosphere=1.2, relative_density=0.2)"
   ]
  },
  {
   "cell_type": "markdown",
   "metadata": {},
   "source": [
    "To print the calculated melt flux (in m$^3$ s$^{-1}$):"
   ]
  },
  {
   "cell_type": "code",
   "execution_count": 32,
   "metadata": {},
   "outputs": [
    {
     "data": {
      "text/plain": [
       "1.155224588059439"
      ]
     },
     "execution_count": 32,
     "metadata": {},
     "output_type": "execute_result"
    }
   ],
   "source": [
    "oib.melt_flux"
   ]
  },
  {
   "cell_type": "markdown",
   "metadata": {},
   "source": [
    "If active upwelling is considered then we can assign a function for weighting melts generated at depth. PyMelt provides an inbuilt exponential function for modelling melt weighting, which can be implemented as follows:"
   ]
  },
  {
   "cell_type": "code",
   "execution_count": 33,
   "metadata": {},
   "outputs": [],
   "source": [
    "oib_active = m.geosettings.intraPlate(column, P_lithosphere=1.2, relative_density=0.2, \n",
    "                                      weightingFunction=m.geosettings.weighting_expdecay,\n",
    "                                     weighting_wavelength=1.0)"
   ]
  },
  {
   "cell_type": "markdown",
   "metadata": {},
   "source": [
    "What effect does this have on the melt flux?"
   ]
  },
  {
   "cell_type": "code",
   "execution_count": 34,
   "metadata": {},
   "outputs": [
    {
     "data": {
      "text/plain": [
       "0.6840551423801696"
      ]
     },
     "execution_count": 34,
     "metadata": {},
     "output_type": "execute_result"
    }
   ],
   "source": [
    "oib_active.melt_flux"
   ]
  },
  {
   "cell_type": "markdown",
   "metadata": {},
   "source": [
    "We can see here that melt flux has decreased. When a weighting function is used the calculation aims to have an upwelling velocity of zero at the base of the lithosphere. The amount of melt fluxing is therefore lower compared to the simple case where weighting isn't considered.\n",
    "\n",
    "It is worth noting here that active upwelling applied to the `spreadingCentre` _increases_ the amount of melts generated, as the zero-velocity constraint is not applied to this geosetting.  "
   ]
  },
  {
   "cell_type": "markdown",
   "metadata": {},
   "source": [
    "## References\n",
    "Ball, P., Duvernay, T., & Davies, D. R. (2022). A coupled geochemical-geodynamical approach for predicting mantle melting in space and time. In press.\n",
    "\n",
    "Katz, R. F., Spiegelman, M., & Langmuir, C. H. (2003). A new parameterization of hydrous mantle melting. Geochemistry, Geophysics, Geosystems, 4(9), 1073. <https://doi.org/10.1029/2002GC000433>\n",
    "\n",
    "Matthews, S., Shorttle, O., & Maclennan, J. (2016). The temperature of the Icelandic mantle from olivine-spinel aluminum exchange thermometry. Geochemistry, Geophysics, Geosystems, 17(11), 4725–4752. <https://doi.org/10.1002/2016GC006497>\n",
    "\n",
    "Matthews, S., Wong, K., Shorttle, O., Edmonds, M., & Maclennan, J. (2021). Do olivine crystallization temperatures faithfully record mantle temperature variability? Geochemistry, Geophysics, Geosystems. <https://doi.org/10.1029/2020GC009157>\n",
    "\n",
    "McKenzie, D., & O’Nions, R. K. (1991). Partial Melt Distributions from Inversion of Rare Earth Element Concentrations. Journal of Petrology, 32(5), 1021–1091. <https://doi.org/10.1093/petrology/32.5.1021>\n",
    "\n",
    "Pertermann, M., & Hirschmann, M. M. (2003). Partial melting experiments on a MORB-like pyroxenite between 2 and 3 GPa: Constraints on the presence of pyroxenite in basalt source regions from solidus location and melting rate. Journal of Geophysical Research: Solid Earth, 108(B2), 2125. <https://doi.org/10.1029/2000JB000118>\n",
    "\n",
    "Phipps Morgan, J. (2001). Thermodynamics of pressure release melting of a veined plum pudding mantle. Geochemistry, Geophysics, Geosystems, 2(4), 1001. <https://doi.org/10.1029/2000GC000049>\n",
    "\n",
    "Shorttle, O., Maclennan, J., & Lambart, S. (2014). Quantifying lithological variability in the mantle. Earth and Planetary Science Letters, 395, 24–40. <https://doi.org/10.1016/j.epsl.2014.03.040>\n"
   ]
  }
 ],
 "metadata": {
  "kernelspec": {
   "display_name": "Python 3 (ipykernel)",
   "language": "python",
   "name": "python3"
  },
  "language_info": {
   "codemirror_mode": {
    "name": "ipython",
    "version": 3
   },
   "file_extension": ".py",
   "mimetype": "text/x-python",
   "name": "python",
   "nbconvert_exporter": "python",
   "pygments_lexer": "ipython3",
   "version": "3.7.12"
  }
 },
 "nbformat": 4,
 "nbformat_minor": 4
}
