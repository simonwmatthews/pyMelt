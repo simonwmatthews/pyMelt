{
 "cells": [
  {
   "cell_type": "markdown",
   "metadata": {},
   "source": [
    "# FRTE Tests and characterisation\n",
    "\n",
    "Test the expressions and their predictions in pyMelt"
   ]
  },
  {
   "cell_type": "code",
   "execution_count": 1,
   "metadata": {},
   "outputs": [],
   "source": [
    "import numpy as np\n",
    "import matplotlib.pyplot as plt\n",
    "import pyMelt as m\n",
    "import pandas as pd"
   ]
  },
  {
   "cell_type": "code",
   "execution_count": 2,
   "metadata": {},
   "outputs": [],
   "source": [
    "klb1 = m.load_phaseDiagram('thermocalc_klb1')"
   ]
  },
  {
   "cell_type": "code",
   "execution_count": 3,
   "metadata": {},
   "outputs": [
    {
     "data": {
      "text/plain": [
       "1431.2939394067027"
      ]
     },
     "execution_count": 3,
     "metadata": {},
     "output_type": "execute_result"
    }
   ],
   "source": [
    "klb1('temperature', pd.Series({'P':2.0, 'F':0.1}))"
   ]
  },
  {
   "cell_type": "code",
   "execution_count": 4,
   "metadata": {},
   "outputs": [
    {
     "data": {
      "text/plain": [
       "6.044899378995623"
      ]
     },
     "execution_count": 4,
     "metadata": {},
     "output_type": "execute_result"
    }
   ],
   "source": [
    "m.chemistry.matzen.D(pd.Series({'P': 2.0, \n",
    "                                'T':klb1('temperature', pd.Series({'P':2.0, 'F':0.1})), \n",
    "                                'F':0.1}),\n",
    "                     mineral = 'olv',\n",
    "                     element = 'Ni',\n",
    "                     phaseDiagram = klb1\n",
    "                     )"
   ]
  },
  {
   "cell_type": "code",
   "execution_count": 10,
   "metadata": {},
   "outputs": [],
   "source": [
    "p = np.linspace(0.01, 6, 100)\n",
    "x = np.linspace(0, 1, 100)\n",
    "\n",
    "xx, pp = np.meshgrid(x, p)\n",
    "\n",
    "D = np.zeros(np.shape(pp))\n",
    "\n",
    "for i in range(np.shape(pp)[0]):\n",
    "    for j in range(np.shape(pp)[1]):\n",
    "        state = pd.Series({'P': pp[i,j], \n",
    "                           'T':klb1('temperature', pd.Series({'P':pp[i,j], 'F':xx[i,j]})), \n",
    "                           'F': xx[i,j]})\n",
    "        D[i,j] = m.chemistry.matzen.D(state, 'cpx', 'Ni', phaseDiagram=klb1)\n"
   ]
  },
  {
   "cell_type": "code",
   "execution_count": 11,
   "metadata": {},
   "outputs": [
    {
     "data": {
      "image/png": "[encoded data removed]",
      "text/plain": [
       "<Figure size 640x480 with 1 Axes>"
      ]
     },
     "metadata": {},
     "output_type": "display_data"
    }
   ],
   "source": [
    "f, a = plt.subplots()\n",
    "\n",
    "a.contourf(xx, pp, D)\n",
    "\n",
    "plt.show()"
   ]
  },
  {
   "cell_type": "code",
   "execution_count": null,
   "metadata": {},
   "outputs": [],
   "source": []
  }
 ],
 "metadata": {
  "kernelspec": {
   "display_name": ".venv",
   "language": "python",
   "name": "python3"
  },
  "language_info": {
   "codemirror_mode": {
    "name": "ipython",
    "version": 3
   },
   "file_extension": ".py",
   "mimetype": "text/x-python",
   "name": "python",
   "nbconvert_exporter": "python",
   "pygments_lexer": "ipython3",
   "version": "3.9.6"
  },
  "orig_nbformat": 4
 },
 "nbformat": 4,
 "nbformat_minor": 2
}
