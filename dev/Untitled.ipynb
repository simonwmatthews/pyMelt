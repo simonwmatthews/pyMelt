{
 "cells": [
  {
   "cell_type": "code",
   "execution_count": 1,
   "metadata": {},
   "outputs": [],
   "source": [
    "import pyMelt as m\n",
    "from pyMelt.chemistry import BatchSpecies\n",
    "import pyMelt.meltingcolumn_classes\n",
    "import pandas as pd\n",
    "import numpy as np\n",
    "import matplotlib.pyplot as plt"
   ]
  },
  {
   "cell_type": "code",
   "execution_count": 2,
   "metadata": {},
   "outputs": [],
   "source": [
    "lz = m.lithologies.matthews.klb1()\n",
    "px = m.lithologies.matthews.kg1()\n",
    "mantle = m.Mantle([lz, px],[1.0, 0.2],['lz', 'px'])\n",
    "column1 = mantle.AdiabaticMelt(1450)\n",
    "column2 = mantle.AdiabaticMelt(1450)"
   ]
  },
  {
   "cell_type": "code",
   "execution_count": 3,
   "metadata": {},
   "outputs": [],
   "source": [
    "column1.calculate_chemistry(elements = {'lz': m.chemistry.workman05_ddm,\n",
    "                                        'px': m.chemistry.stracke03_bsic}, \n",
    "                           D = m.chemistry.workman05_D,\n",
    "                           method='continuous',\n",
    "                           output_type='instantaneous'\n",
    "                           )\n",
    "column2.calculate_chemistry(elements = {'lz': m.chemistry.workman05_ddm,\n",
    "                                        'px': m.chemistry.stracke03_bsic}, \n",
    "                           D = m.chemistry.workman05_D,\n",
    "                           method='continuous',\n",
    "                           output_type='accumulated'\n",
    "                           )"
   ]
  },
  {
   "cell_type": "code",
   "execution_count": 4,
   "metadata": {},
   "outputs": [
    {
     "data": {
      "image/png": "[encoded data removed]",
      "text/plain": [
       "<Figure size 432x288 with 1 Axes>"
      ]
     },
     "metadata": {
      "needs_background": "light"
     },
     "output_type": "display_data"
    }
   ],
   "source": [
    "f,a = plt.subplots()\n",
    "a.plot(column1.lithologies['lz'].Pressure, column1.lithologies['lz'].La)\n",
    "a.plot(column1.lithologies['px'].Pressure, column1.lithologies['px'].La)\n",
    "a.plot(column2.lithologies['lz'].Pressure, column2.lithologies['lz'].La)\n",
    "a.plot(column2.lithologies['px'].Pressure, column2.lithologies['px'].La)\n",
    "plt.show()"
   ]
  },
  {
   "cell_type": "code",
   "execution_count": 5,
   "metadata": {},
   "outputs": [
    {
     "name": "stderr",
     "output_type": "stream",
     "text": [
      "/Users/simonmatthews/opt/anaconda3/lib/python3.7/site-packages/pyMelt/geosettings.py:237: UserWarning: When homogenising instantaneous melts numerical error is likely to be introduced due to discretisation. This will affect the most incompatible elements most severely.\n",
      "  warn(\"When homogenising instantaneous melts numerical error is likely to be \"\n"
     ]
    }
   ],
   "source": [
    "morb1 = pyMelt.geosettings.SpreadingCentre(column1)\n",
    "morb2 = pyMelt.geosettings.SpreadingCentre(column2)"
   ]
  },
  {
   "cell_type": "code",
   "execution_count": 12,
   "metadata": {},
   "outputs": [
    {
     "data": {
      "text/plain": [
       "0      8.011807\n",
       "1      8.003817\n",
       "2      7.995827\n",
       "3      7.987837\n",
       "4      7.979847\n",
       "         ...   \n",
       "937    0.525177\n",
       "938    0.517187\n",
       "939    0.509197\n",
       "940    0.501207\n",
       "941    0.493217\n",
       "Name: Pressure, Length: 942, dtype: float64"
      ]
     },
     "execution_count": 12,
     "metadata": {},
     "output_type": "execute_result"
    }
   ],
   "source": [
    "morb1.lithologies['lz'].Pressure"
   ]
  },
  {
   "cell_type": "code",
   "execution_count": 6,
   "metadata": {},
   "outputs": [
    {
     "data": {
      "text/plain": [
       "Rb        0.912665\n",
       "Ba       10.510633\n",
       "Th        0.142656\n",
       "U         0.046485\n",
       "Nb        3.102114\n",
       "Ta        0.197803\n",
       "La        2.903460\n",
       "Ce        9.655623\n",
       "Pb        0.180507\n",
       "Pr        0.331648\n",
       "Nd       11.712214\n",
       "Sr      132.569767\n",
       "Zr      100.611490\n",
       "Hf        2.836975\n",
       "Sm        4.228269\n",
       "Eu        1.632202\n",
       "Ti    11997.006146\n",
       "Gd        6.229340\n",
       "Tb        0.174548\n",
       "Dy        7.627287\n",
       "Ho        0.263833\n",
       "Y        43.839555\n",
       "Er        4.711748\n",
       "Yb        4.450934\n",
       "Lu        0.671020\n",
       "dtype: float64"
      ]
     },
     "execution_count": 6,
     "metadata": {},
     "output_type": "execute_result"
    }
   ],
   "source": [
    "morb1.chemistry"
   ]
  },
  {
   "cell_type": "code",
   "execution_count": 7,
   "metadata": {},
   "outputs": [
    {
     "data": {
      "text/plain": [
       "Rb        0.981895\n",
       "Ba       11.295047\n",
       "Th        0.151872\n",
       "U         0.049349\n",
       "Nb        3.253453\n",
       "Ta        0.207438\n",
       "La        2.983438\n",
       "Ce        9.812473\n",
       "Pb        0.184139\n",
       "Pr        0.332975\n",
       "Nd       11.859060\n",
       "Sr      134.511346\n",
       "Zr      101.805029\n",
       "Hf        2.868570\n",
       "Sm        4.265888\n",
       "Eu        1.645321\n",
       "Ti    12080.848063\n",
       "Gd        6.274584\n",
       "Tb        0.174724\n",
       "Dy        7.666192\n",
       "Ho        0.264013\n",
       "Y        44.035482\n",
       "Er        4.730856\n",
       "Yb        4.465633\n",
       "Lu        0.673110\n",
       "dtype: float64"
      ]
     },
     "execution_count": 7,
     "metadata": {},
     "output_type": "execute_result"
    }
   ],
   "source": [
    "morb2.chemistry"
   ]
  },
  {
   "cell_type": "code",
   "execution_count": 12,
   "metadata": {},
   "outputs": [
    {
     "data": {
      "image/png": "[encoded data removed]",
      "text/plain": [
       "<Figure size 432x288 with 1 Axes>"
      ]
     },
     "metadata": {
      "needs_background": "light"
     },
     "output_type": "display_data"
    }
   ],
   "source": [
    "rel = morb1.chemistry/morb2.chemistry\n",
    "f,a = plt.subplots()\n",
    "for el in rel.keys():\n",
    "    a.scatter(pyMelt.chemistry.workman05_D[el],rel[el])\n",
    "plt.show()"
   ]
  },
  {
   "cell_type": "code",
   "execution_count": null,
   "metadata": {},
   "outputs": [],
   "source": []
  },
  {
   "cell_type": "code",
   "execution_count": 13,
   "metadata": {},
   "outputs": [
    {
     "name": "stdout",
     "output_type": "stream",
     "text": [
      "[[0.         0.         0.         ... 0.         0.         0.        ]\n",
      " [0.         0.         0.         ... 0.         0.         0.        ]\n",
      " [0.         0.         0.         ... 0.         0.         0.        ]\n",
      " ...\n",
      " [0.36948419 4.16353525 0.05872478 ... 1.99636324 1.93172819 0.30033968]\n",
      " [0.36805486 4.14742873 0.0584976  ... 1.99251041 1.92849317 0.29985514]\n",
      " [0.36665684 4.13167514 0.0582754  ... 1.98872291 1.9253116  0.29937855]]\n",
      "[[0.         0.         0.         ... 0.         0.         0.        ]\n",
      " [0.         0.         0.         ... 0.         0.         0.        ]\n",
      " [0.         0.         0.         ... 0.         0.         0.        ]\n",
      " ...\n",
      " [0.8153008  9.44036244 0.12737556 ... 4.86180488 4.6488285  0.69978545]\n",
      " [0.81307845 9.41462987 0.12702836 ... 4.8485625  4.63619322 0.6978854 ]\n",
      " [0.81085554 9.3888908  0.12668107 ... 4.83531635 4.62355345 0.69598461]]\n"
     ]
    },
    {
     "name": "stderr",
     "output_type": "stream",
     "text": [
      "/Users/simonmatthews/opt/anaconda3/lib/python3.7/site-packages/pyMelt/geosettings.py:442: UserWarning: When homogenising instantaneous melts numerical error is likely to be introduced due to discretisation. This will affect the most incompatible elements most severely.\n",
      "  warn(\"When homogenising instantaneous melts numerical error is likely to be \"\n"
     ]
    }
   ],
   "source": [
    "oib1 = pyMelt.geosettings.OceanIsland(column1, P_lithosphere=1.0, relative_density=0.2)"
   ]
  },
  {
   "cell_type": "code",
   "execution_count": 14,
   "metadata": {},
   "outputs": [],
   "source": [
    "oib2 = pyMelt.geosettings.OceanIsland(column2, P_lithosphere=1.0, relative_density=0.2)"
   ]
  },
  {
   "cell_type": "code",
   "execution_count": 15,
   "metadata": {},
   "outputs": [
    {
     "data": {
      "text/plain": [
       "Rb        2.633980\n",
       "Ba       30.429960\n",
       "Th        0.412111\n",
       "U         0.130031\n",
       "Nb        9.172906\n",
       "Ta        0.584010\n",
       "La        8.364999\n",
       "Ce       29.149009\n",
       "Pb        0.486117\n",
       "Pr        0.485540\n",
       "Nd       36.480535\n",
       "Sr      401.932527\n",
       "Zr      313.937263\n",
       "Hf        8.804244\n",
       "Sm       13.316598\n",
       "Eu        5.161665\n",
       "Ti    38353.736512\n",
       "Gd       19.926306\n",
       "Tb        0.276099\n",
       "Dy       24.885723\n",
       "Ho        0.421878\n",
       "Y       142.874895\n",
       "Er       15.587387\n",
       "Yb       14.919067\n",
       "Lu        2.251555\n",
       "dtype: float64"
      ]
     },
     "execution_count": 15,
     "metadata": {},
     "output_type": "execute_result"
    }
   ],
   "source": [
    "oib1.chemistry"
   ]
  },
  {
   "cell_type": "code",
   "execution_count": 16,
   "metadata": {},
   "outputs": [
    {
     "data": {
      "text/plain": [
       "Rb        2.866034\n",
       "Ba       33.065710\n",
       "Th        0.443311\n",
       "U         0.139604\n",
       "Nb        9.700600\n",
       "Ta        0.617584\n",
       "La        8.653499\n",
       "Ce       29.755980\n",
       "Pb        0.499194\n",
       "Pr        0.488564\n",
       "Nd       37.070751\n",
       "Sr      409.537690\n",
       "Zr      318.764541\n",
       "Hf        8.932615\n",
       "Sm       13.473734\n",
       "Eu        5.217084\n",
       "Ti    38713.704664\n",
       "Gd       20.119904\n",
       "Tb        0.276647\n",
       "Dy       25.057742\n",
       "Ho        0.422507\n",
       "Y       143.747698\n",
       "Er       15.673016\n",
       "Yb       14.985242\n",
       "Lu        2.260965\n",
       "dtype: float64"
      ]
     },
     "execution_count": 16,
     "metadata": {},
     "output_type": "execute_result"
    }
   ],
   "source": [
    "oib2.chemistry"
   ]
  },
  {
   "cell_type": "code",
   "execution_count": null,
   "metadata": {},
   "outputs": [],
   "source": []
  },
  {
   "cell_type": "code",
   "execution_count": null,
   "metadata": {},
   "outputs": [],
   "source": []
  },
  {
   "cell_type": "code",
   "execution_count": 7,
   "metadata": {},
   "outputs": [],
   "source": [
    "c = column2.lithologies['lz'].drop(['Pressure','T','F'], axis=1, inplace=False).to_numpy()"
   ]
  },
  {
   "cell_type": "code",
   "execution_count": 14,
   "metadata": {},
   "outputs": [],
   "source": [
    "f = column2.lithologies['lz'].F.to_numpy()"
   ]
  },
  {
   "cell_type": "code",
   "execution_count": 9,
   "metadata": {},
   "outputs": [],
   "source": [
    "c = np.nan_to_num(c, nan=0.0)"
   ]
  },
  {
   "cell_type": "code",
   "execution_count": 17,
   "metadata": {},
   "outputs": [],
   "source": [
    "df = f[1:] - f[:-1]\n"
   ]
  },
  {
   "cell_type": "code",
   "execution_count": 37,
   "metadata": {},
   "outputs": [],
   "source": [
    "for i in range(len(c)-1):\n",
    "    if np.sum(df[:i]) > 0:\n",
    "        cnormed[i+1,:] = np.sum(c[1:i+1, :]*df[:i, None], axis=0)/np.sum(df[:i])\n",
    "    else:\n",
    "        cnormed[i] = 0"
   ]
  },
  {
   "cell_type": "code",
   "execution_count": 38,
   "metadata": {},
   "outputs": [
    {
     "data": {
      "text/plain": [
       "array([[0., 0., 0., 0., 0., 0., 0., 0., 0., 0., 0., 0., 0., 0., 0., 0.,\n",
       "        0., 0., 0., 0., 0., 0., 0., 0., 0.]])"
      ]
     },
     "execution_count": 38,
     "metadata": {},
     "output_type": "execute_result"
    }
   ],
   "source": [
    "c[1:2,:]*df[:1, None]"
   ]
  },
  {
   "cell_type": "code",
   "execution_count": 39,
   "metadata": {},
   "outputs": [
    {
     "data": {
      "text/plain": [
       "array([[0.]])"
      ]
     },
     "execution_count": 39,
     "metadata": {},
     "output_type": "execute_result"
    }
   ],
   "source": [
    "df[:1, None]"
   ]
  },
  {
   "cell_type": "code",
   "execution_count": 40,
   "metadata": {},
   "outputs": [
    {
     "data": {
      "text/plain": [
       "array([[0.        , 0.        , 0.        , ..., 0.        , 0.        ,\n",
       "        0.        ],\n",
       "       [0.        , 0.        , 0.        , ..., 0.        , 0.        ,\n",
       "        0.        ],\n",
       "       [0.        , 0.        , 0.        , ..., 0.        , 0.        ,\n",
       "        0.        ],\n",
       "       ...,\n",
       "       [0.69550509, 7.80680149, 0.1069323 , ..., 1.962808  , 1.88380217,\n",
       "        0.29246444],\n",
       "       [0.68559942, 7.6957221 , 0.10542236, ..., 1.94693246, 1.86996776,\n",
       "        0.29037238],\n",
       "       [0.67575377, 7.58531319, 0.10392124, ..., 1.93090106, 1.85596747,\n",
       "        0.28825409]])"
      ]
     },
     "execution_count": 40,
     "metadata": {},
     "output_type": "execute_result"
    }
   ],
   "source": [
    "cnormed"
   ]
  },
  {
   "cell_type": "code",
   "execution_count": 42,
   "metadata": {},
   "outputs": [
    {
     "data": {
      "text/plain": [
       "array([2.99639628e-01, 3.37236111e+00, 4.71455527e-02, 1.90889578e-02,\n",
       "       8.77554202e-01, 5.67307767e-02, 1.10607130e+00, 3.03448014e+00,\n",
       "       1.02177351e-01, 5.80226179e-01, 3.10795332e+00, 4.18461620e+01,\n",
       "       2.70023208e+01, 8.28608298e-01, 1.22024284e+00, 4.82176548e-01,\n",
       "       3.50535993e+03, 1.76334229e+00, 3.31685587e-01, 2.31012508e+00,\n",
       "       5.17773356e-01, 1.47953645e+01, 1.50393038e+00, 1.49191156e+00,\n",
       "       2.33486457e-01])"
      ]
     },
     "execution_count": 42,
     "metadata": {},
     "output_type": "execute_result"
    }
   ],
   "source": [
    "norm.sum(axis=0)/f.sum()"
   ]
  },
  {
   "cell_type": "code",
   "execution_count": 43,
   "metadata": {},
   "outputs": [
    {
     "data": {
      "text/plain": [
       "(101, 28)"
      ]
     },
     "execution_count": 43,
     "metadata": {},
     "output_type": "execute_result"
    }
   ],
   "source": [
    "np.shape(column2.lithologies['lz'])"
   ]
  },
  {
   "cell_type": "code",
   "execution_count": 44,
   "metadata": {},
   "outputs": [
    {
     "data": {
      "text/plain": [
       "a    1\n",
       "b    2\n",
       "c    3\n",
       "dtype: int64"
      ]
     },
     "execution_count": 44,
     "metadata": {},
     "output_type": "execute_result"
    }
   ],
   "source": [
    "pd.Series(np.array([1,2,3]), index=['a','b','c'])"
   ]
  },
  {
   "cell_type": "code",
   "execution_count": 67,
   "metadata": {},
   "outputs": [],
   "source": [
    "t = column1.F[1:].to_numpy() - column1.F[:len(column1.F)-1].to_numpy()"
   ]
  },
  {
   "cell_type": "code",
   "execution_count": 68,
   "metadata": {},
   "outputs": [
    {
     "data": {
      "text/plain": [
       "array([0.        , 0.        , 0.        , 0.        , 0.        ,\n",
       "       0.        , 0.        , 0.        , 0.        , 0.        ,\n",
       "       0.        , 0.        , 0.        , 0.        , 0.        ,\n",
       "       0.        , 0.        , 0.        , 0.        , 0.        ,\n",
       "       0.        , 0.        , 0.        , 0.        , 0.        ,\n",
       "       0.        , 0.        , 0.        , 0.        , 0.        ,\n",
       "       0.        , 0.        , 0.        , 0.        , 0.        ,\n",
       "       0.        , 0.        , 0.        , 0.        , 0.        ,\n",
       "       0.        , 0.        , 0.        , 0.        , 0.        ,\n",
       "       0.        , 0.        , 0.        , 0.        , 0.        ,\n",
       "       0.        , 0.        , 0.        , 0.        , 0.        ,\n",
       "       0.        , 0.        , 0.        , 0.        , 0.        ,\n",
       "       0.00366622, 0.00568956, 0.00631783, 0.00672523, 0.00703707,\n",
       "       0.00729673, 0.00752423, 0.00773037, 0.00792157, 0.00810197,\n",
       "       0.00827435, 0.00844067, 0.00860237, 0.00876053, 0.00891596,\n",
       "       0.00906932, 0.00922113, 0.00937179, 0.00952166, 0.00967103,\n",
       "       0.00982014, 0.00996919, 0.01011837, 0.01026783, 0.0104177 ,\n",
       "       0.01056812, 0.01071918, 0.01087099, 0.01102364, 0.0111772 ,\n",
       "       0.00629   , 0.00417326, 0.00456506, 0.00486524, 0.00511286,\n",
       "       0.00532472, 0.00551012, 0.00567493, 0.00582325, 0.00595804])"
      ]
     },
     "execution_count": 68,
     "metadata": {},
     "output_type": "execute_result"
    }
   ],
   "source": [
    "t"
   ]
  },
  {
   "cell_type": "code",
   "execution_count": 69,
   "metadata": {},
   "outputs": [
    {
     "data": {
      "text/plain": [
       "array([0.        , 0.        , 0.        , 0.        , 0.        ,\n",
       "       0.        , 0.        , 0.        , 0.        , 0.        ,\n",
       "       0.        , 0.        , 0.        , 0.        , 0.        ,\n",
       "       0.        , 0.        , 0.        , 0.        , 0.        ,\n",
       "       0.        , 0.        , 0.        , 0.        , 0.        ,\n",
       "       0.        , 0.        , 0.        , 0.        , 0.        ,\n",
       "       0.        , 0.        , 0.        , 0.        , 0.        ,\n",
       "       0.        , 0.        , 0.        , 0.        , 0.        ,\n",
       "       0.        , 0.        , 0.        , 0.        , 0.        ,\n",
       "       0.        , 0.        , 0.        , 0.        , 0.        ,\n",
       "       0.        , 0.        , 0.        , 0.        , 0.        ,\n",
       "       0.        , 0.        , 0.        , 0.        , 0.        ,\n",
       "       0.00366622, 0.00568956, 0.00631783, 0.00672523, 0.00703707,\n",
       "       0.00729673, 0.00752423, 0.00773037, 0.00792157, 0.00810197,\n",
       "       0.00827435, 0.00844067, 0.00860237, 0.00876053, 0.00891596,\n",
       "       0.00906932, 0.00922113, 0.00937179, 0.00952166, 0.00967103,\n",
       "       0.00982014, 0.00996919, 0.01011837, 0.01026783, 0.0104177 ,\n",
       "       0.01056812, 0.01071918, 0.01087099, 0.01102364, 0.0111772 ,\n",
       "       0.00629   , 0.00417326, 0.00456506, 0.00486524, 0.00511286,\n",
       "       0.00532472, 0.00551012, 0.00567493, 0.00582325])"
      ]
     },
     "execution_count": 69,
     "metadata": {},
     "output_type": "execute_result"
    }
   ],
   "source": [
    "t[:-1]"
   ]
  },
  {
   "cell_type": "code",
   "execution_count": null,
   "metadata": {},
   "outputs": [],
   "source": []
  }
 ],
 "metadata": {
  "kernelspec": {
   "display_name": "Python 3",
   "language": "python",
   "name": "python3"
  },
  "language_info": {
   "codemirror_mode": {
    "name": "ipython",
    "version": 3
   },
   "file_extension": ".py",
   "mimetype": "text/x-python",
   "name": "python",
   "nbconvert_exporter": "python",
   "pygments_lexer": "ipython3",
   "version": "3.7.6"
  }
 },
 "nbformat": 4,
 "nbformat_minor": 4
}
